{
  "nbformat": 4,
  "nbformat_minor": 0,
  "metadata": {
    "colab": {
      "name": "Project1.ipynb",
      "provenance": [],
      "authorship_tag": "ABX9TyP1hS1Ykk9I4IE8YYYjd2VC",
      "include_colab_link": true
    },
    "kernelspec": {
      "name": "python3",
      "display_name": "Python 3"
    },
    "language_info": {
      "name": "python"
    }
  },
  "cells": [
    {
      "cell_type": "markdown",
      "metadata": {
        "id": "view-in-github",
        "colab_type": "text"
      },
      "source": [
        "<a href=\"https://colab.research.google.com/github/diplav09/Datamining/blob/main/Project1.ipynb\" target=\"_parent\"><img src=\"https://colab.research.google.com/assets/colab-badge.svg\" alt=\"Open In Colab\"/></a>"
      ]
    },
    {
      "cell_type": "code",
      "execution_count": 1,
      "metadata": {
        "colab": {
          "base_uri": "https://localhost:8080/"
        },
        "id": "uuIoaEkP9qqj",
        "outputId": "95b42151-ce4e-429d-d7d9-00681078ffd4"
      },
      "outputs": [
        {
          "output_type": "stream",
          "name": "stdout",
          "text": [
            "Drive already mounted at /content/gdrive; to attempt to forcibly remount, call drive.mount(\"/content/gdrive\", force_remount=True).\n",
            "/content/gdrive/My Drive\n"
          ]
        }
      ],
      "source": [
        "import numpy as np\n",
        "from scipy.io import loadmat\n",
        "import os\n",
        "from google.colab import drive\n",
        "drive.mount('/content/gdrive')\n",
        "import os\n",
        "os.environ['SIR_CONFIG_DIR'] = \"/content/gdrive/My Drive/\"\n",
        "%cd /content/gdrive/My Drive/"
      ]
    },
    {
      "cell_type": "code",
      "source": [
        "cd Large_Scale_data_mining/Project1/"
      ],
      "metadata": {
        "colab": {
          "base_uri": "https://localhost:8080/"
        },
        "id": "SgaQdhRB-Ca8",
        "outputId": "5fcbb6d9-d81e-462a-e465-a98bf8e407a8"
      },
      "execution_count": 2,
      "outputs": [
        {
          "output_type": "stream",
          "name": "stdout",
          "text": [
            "/content/gdrive/My Drive/Large_Scale_data_mining/Project1\n"
          ]
        }
      ]
    },
    {
      "cell_type": "code",
      "source": [
        "import pandas as pd"
      ],
      "metadata": {
        "id": "wS2cZJWs95Jf"
      },
      "execution_count": 3,
      "outputs": []
    },
    {
      "cell_type": "code",
      "source": [
        "fname = 'Project_1_dataset_01_01_2022.csv'\n",
        "df = pd.read_csv (fname)"
      ],
      "metadata": {
        "id": "qhPHSbER-Le6"
      },
      "execution_count": 4,
      "outputs": []
    },
    {
      "cell_type": "markdown",
      "source": [
        "**EDA**"
      ],
      "metadata": {
        "id": "PypbcLzvLdVU"
      }
    },
    {
      "cell_type": "code",
      "source": [
        "df.head(5)"
      ],
      "metadata": {
        "colab": {
          "base_uri": "https://localhost:8080/",
          "height": 441
        },
        "id": "RImSVPr7-ghB",
        "outputId": "dab278aa-c82e-47f5-b1fc-36eae2b046cf"
      },
      "execution_count": 5,
      "outputs": [
        {
          "output_type": "execute_result",
          "data": {
            "text/html": [
              "\n",
              "  <div id=\"df-81871cd7-4282-45c3-8af4-e1adfa98e96b\">\n",
              "    <div class=\"colab-df-container\">\n",
              "      <div>\n",
              "<style scoped>\n",
              "    .dataframe tbody tr th:only-of-type {\n",
              "        vertical-align: middle;\n",
              "    }\n",
              "\n",
              "    .dataframe tbody tr th {\n",
              "        vertical-align: top;\n",
              "    }\n",
              "\n",
              "    .dataframe thead th {\n",
              "        text-align: right;\n",
              "    }\n",
              "</style>\n",
              "<table border=\"1\" class=\"dataframe\">\n",
              "  <thead>\n",
              "    <tr style=\"text-align: right;\">\n",
              "      <th></th>\n",
              "      <th>Unnamed: 0</th>\n",
              "      <th>full_text</th>\n",
              "      <th>summary</th>\n",
              "      <th>keywords</th>\n",
              "      <th>publish_date</th>\n",
              "      <th>authors</th>\n",
              "      <th>url</th>\n",
              "      <th>leaf_label</th>\n",
              "      <th>root_label</th>\n",
              "    </tr>\n",
              "  </thead>\n",
              "  <tbody>\n",
              "    <tr>\n",
              "      <th>0</th>\n",
              "      <td>590</td>\n",
              "      <td>Having made a massive impact in Saudi Arabia w...</td>\n",
              "      <td>Having made a massive impact in Saudi Arabia w...</td>\n",
              "      <td>['singhs', 'rooting', 'cool', 'saudi', 'style'...</td>\n",
              "      <td>NaN</td>\n",
              "      <td>[]</td>\n",
              "      <td>https://www.msn.com/en-in/entertainment/other/...</td>\n",
              "      <td>cricket</td>\n",
              "      <td>sports</td>\n",
              "    </tr>\n",
              "    <tr>\n",
              "      <th>1</th>\n",
              "      <td>388</td>\n",
              "      <td>Cricket is all about the emotional rollercoast...</td>\n",
              "      <td>No matter which team fans hope to win, every s...</td>\n",
              "      <td>['wants', 'fans', 'finals', 'cup', 'win', 'tou...</td>\n",
              "      <td>NaN</td>\n",
              "      <td>[]</td>\n",
              "      <td>https://www.prnewswire.com:443/news-releases/c...</td>\n",
              "      <td>cricket</td>\n",
              "      <td>sports</td>\n",
              "    </tr>\n",
              "    <tr>\n",
              "      <th>2</th>\n",
              "      <td>423</td>\n",
              "      <td>New Zealand announces back-to-back tours next ...</td>\n",
              "      <td>New Zealand announces back-to-back tours next ...</td>\n",
              "      <td>['test', 'west', 'tour', 'zealand', 'world', '...</td>\n",
              "      <td>2021-12-20 00:00:00</td>\n",
              "      <td>[]</td>\n",
              "      <td>https://www.aljazeera.com/news/2021/12/20/cric...</td>\n",
              "      <td>cricket</td>\n",
              "      <td>sports</td>\n",
              "    </tr>\n",
              "    <tr>\n",
              "      <th>3</th>\n",
              "      <td>563</td>\n",
              "      <td>It's not the first time cricket fans in the co...</td>\n",
              "      <td>Billed as one of the pre-tournament favourites...</td>\n",
              "      <td>['qualify', 'afghanistan', 'cup', 'world', 'ze...</td>\n",
              "      <td>NaN</td>\n",
              "      <td>[]</td>\n",
              "      <td>https://www.msn.com/en-in/news/other/t20-world...</td>\n",
              "      <td>cricket</td>\n",
              "      <td>sports</td>\n",
              "    </tr>\n",
              "    <tr>\n",
              "      <th>4</th>\n",
              "      <td>634</td>\n",
              "      <td>An employee works on a computer terminal again...</td>\n",
              "      <td>REUTERS/Sivaram VBENGALURU, Oct 11 (Reuters Br...</td>\n",
              "      <td>['success', 'tech', 'startup', 'talent', 'onli...</td>\n",
              "      <td>2021-10-11 00:00:00</td>\n",
              "      <td>['Una Galani']</td>\n",
              "      <td>https://www.reuters.com/breakingviews/india-in...</td>\n",
              "      <td>cricket</td>\n",
              "      <td>sports</td>\n",
              "    </tr>\n",
              "  </tbody>\n",
              "</table>\n",
              "</div>\n",
              "      <button class=\"colab-df-convert\" onclick=\"convertToInteractive('df-81871cd7-4282-45c3-8af4-e1adfa98e96b')\"\n",
              "              title=\"Convert this dataframe to an interactive table.\"\n",
              "              style=\"display:none;\">\n",
              "        \n",
              "  <svg xmlns=\"http://www.w3.org/2000/svg\" height=\"24px\"viewBox=\"0 0 24 24\"\n",
              "       width=\"24px\">\n",
              "    <path d=\"M0 0h24v24H0V0z\" fill=\"none\"/>\n",
              "    <path d=\"M18.56 5.44l.94 2.06.94-2.06 2.06-.94-2.06-.94-.94-2.06-.94 2.06-2.06.94zm-11 1L8.5 8.5l.94-2.06 2.06-.94-2.06-.94L8.5 2.5l-.94 2.06-2.06.94zm10 10l.94 2.06.94-2.06 2.06-.94-2.06-.94-.94-2.06-.94 2.06-2.06.94z\"/><path d=\"M17.41 7.96l-1.37-1.37c-.4-.4-.92-.59-1.43-.59-.52 0-1.04.2-1.43.59L10.3 9.45l-7.72 7.72c-.78.78-.78 2.05 0 2.83L4 21.41c.39.39.9.59 1.41.59.51 0 1.02-.2 1.41-.59l7.78-7.78 2.81-2.81c.8-.78.8-2.07 0-2.86zM5.41 20L4 18.59l7.72-7.72 1.47 1.35L5.41 20z\"/>\n",
              "  </svg>\n",
              "      </button>\n",
              "      \n",
              "  <style>\n",
              "    .colab-df-container {\n",
              "      display:flex;\n",
              "      flex-wrap:wrap;\n",
              "      gap: 12px;\n",
              "    }\n",
              "\n",
              "    .colab-df-convert {\n",
              "      background-color: #E8F0FE;\n",
              "      border: none;\n",
              "      border-radius: 50%;\n",
              "      cursor: pointer;\n",
              "      display: none;\n",
              "      fill: #1967D2;\n",
              "      height: 32px;\n",
              "      padding: 0 0 0 0;\n",
              "      width: 32px;\n",
              "    }\n",
              "\n",
              "    .colab-df-convert:hover {\n",
              "      background-color: #E2EBFA;\n",
              "      box-shadow: 0px 1px 2px rgba(60, 64, 67, 0.3), 0px 1px 3px 1px rgba(60, 64, 67, 0.15);\n",
              "      fill: #174EA6;\n",
              "    }\n",
              "\n",
              "    [theme=dark] .colab-df-convert {\n",
              "      background-color: #3B4455;\n",
              "      fill: #D2E3FC;\n",
              "    }\n",
              "\n",
              "    [theme=dark] .colab-df-convert:hover {\n",
              "      background-color: #434B5C;\n",
              "      box-shadow: 0px 1px 3px 1px rgba(0, 0, 0, 0.15);\n",
              "      filter: drop-shadow(0px 1px 2px rgba(0, 0, 0, 0.3));\n",
              "      fill: #FFFFFF;\n",
              "    }\n",
              "  </style>\n",
              "\n",
              "      <script>\n",
              "        const buttonEl =\n",
              "          document.querySelector('#df-81871cd7-4282-45c3-8af4-e1adfa98e96b button.colab-df-convert');\n",
              "        buttonEl.style.display =\n",
              "          google.colab.kernel.accessAllowed ? 'block' : 'none';\n",
              "\n",
              "        async function convertToInteractive(key) {\n",
              "          const element = document.querySelector('#df-81871cd7-4282-45c3-8af4-e1adfa98e96b');\n",
              "          const dataTable =\n",
              "            await google.colab.kernel.invokeFunction('convertToInteractive',\n",
              "                                                     [key], {});\n",
              "          if (!dataTable) return;\n",
              "\n",
              "          const docLinkHtml = 'Like what you see? Visit the ' +\n",
              "            '<a target=\"_blank\" href=https://colab.research.google.com/notebooks/data_table.ipynb>data table notebook</a>'\n",
              "            + ' to learn more about interactive tables.';\n",
              "          element.innerHTML = '';\n",
              "          dataTable['output_type'] = 'display_data';\n",
              "          await google.colab.output.renderOutput(dataTable, element);\n",
              "          const docLink = document.createElement('div');\n",
              "          docLink.innerHTML = docLinkHtml;\n",
              "          element.appendChild(docLink);\n",
              "        }\n",
              "      </script>\n",
              "    </div>\n",
              "  </div>\n",
              "  "
            ],
            "text/plain": [
              "   Unnamed: 0  ... root_label\n",
              "0         590  ...     sports\n",
              "1         388  ...     sports\n",
              "2         423  ...     sports\n",
              "3         563  ...     sports\n",
              "4         634  ...     sports\n",
              "\n",
              "[5 rows x 9 columns]"
            ]
          },
          "metadata": {},
          "execution_count": 5
        }
      ]
    },
    {
      "cell_type": "code",
      "source": [
        "num_sports_article = len(df.loc[df.root_label == 'sports'])\n",
        "print(\"# article with root label == sports =\", num_sports_article)\n",
        "num_climate_article = len(df.loc[df.root_label == 'climate'])\n",
        "print(\"# article with root label == climate =\", num_climate_article)\n",
        "print(\"# total article = \",len(df))"
      ],
      "metadata": {
        "id": "tro1gZ9u-4J3",
        "colab": {
          "base_uri": "https://localhost:8080/"
        },
        "outputId": "ffc25603-dd40-4af9-db4a-ad1e791251cf"
      },
      "execution_count": 6,
      "outputs": [
        {
          "output_type": "stream",
          "name": "stdout",
          "text": [
            "# article with root label == sports = 1036\n",
            "# article with root label == climate = 1036\n",
            "# total article =  2072\n"
          ]
        }
      ]
    },
    {
      "cell_type": "code",
      "source": [
        "# label encoder \n",
        "# from sklearn.preprocessing import LabelEncoder\n",
        "# le=LabelEncoder()\n",
        "# data['Category']=le.fit_transform(data['Category'])\n",
        "# data.head()"
      ],
      "metadata": {
        "id": "9cnnyV5IfmbI"
      },
      "execution_count": null,
      "outputs": []
    },
    {
      "cell_type": "code",
      "source": [
        "FT = df.full_text"
      ],
      "metadata": {
        "id": "OS5jZNq3MQog"
      },
      "execution_count": null,
      "outputs": []
    },
    {
      "cell_type": "code",
      "source": [
        "FT.head()"
      ],
      "metadata": {
        "colab": {
          "base_uri": "https://localhost:8080/"
        },
        "id": "w9PgNHGCa768",
        "outputId": "24ecf8a1-4a54-408a-db5f-a778f6af32de"
      },
      "execution_count": null,
      "outputs": [
        {
          "output_type": "execute_result",
          "data": {
            "text/plain": [
              "0    Having made a massive impact in Saudi Arabia w...\n",
              "1    Cricket is all about the emotional rollercoast...\n",
              "2    New Zealand announces back-to-back tours next ...\n",
              "3    It's not the first time cricket fans in the co...\n",
              "4    An employee works on a computer terminal again...\n",
              "Name: full_text, dtype: object"
            ]
          },
          "metadata": {},
          "execution_count": 13
        }
      ]
    },
    {
      "cell_type": "code",
      "source": [
        "import re\n",
        "import matplotlib.pyplot as plt\n",
        "import numpy as np"
      ],
      "metadata": {
        "id": "G1oyfzrLpwFW"
      },
      "execution_count": null,
      "outputs": []
    },
    {
      "cell_type": "code",
      "source": [
        "histo = []\n",
        "for i in range(0,len(FT)):\n",
        "    review = re.sub(r'https?://\\S+|www.\\S+', '', FT[i])\n",
        "    review = re.sub(r'<.*?>', '', review)\n",
        "    review = re.sub(r'[^a-z0-9A-Z]+', ' ', review)\n",
        "    if(i==0):\n",
        "        print(review)\n",
        "    histo.append(len(review))"
      ],
      "metadata": {
        "colab": {
          "base_uri": "https://localhost:8080/"
        },
        "id": "3ABM8UiTa97q",
        "outputId": "0550d05d-9537-429b-84da-620b5e3bee8e"
      },
      "execution_count": null,
      "outputs": [
        {
          "output_type": "stream",
          "name": "stdout",
          "text": [
            "Having made a massive impact in Saudi Arabia with his style and performance in 83 Ranveer Singh returned to Mumbai on Friday morning with Deepika Padukone After a few hours Ranveer was once again spotted at Mumbai airport as he was leaving the city This time when Ranveer showed up at the airport his stylish look certainly grabbed all the attention The 83 star is already known for his offbeat and unique sartorial choices and he proved it once again As Ranveer stepped out of his luxury vehicle he left everyone in awe with his cool and comfy style The paparazzi caught up with him and clicked him in the frame In the photos Ranveer is seen clad in a Drew House white hoodie with pants But what actually caught all the attention was his hot pink beanie matching his shoes Ranveer slayed the hot pink shoes and beanie like a pro with a cool and comfy look His yellow scarf and cool shades added another level of charm to the airport look Take a look Provided by Pinkvilla Provided by Pinkvilla Provided by Pinkvilla Provided by Pinkvilla Earlier this week Ranveer and Deepika had headed to Saudi Arabia for 83 promotions They were joined by Kapil Dev Romi Dev Kabir Khan and Mini Mathur to attend the Red Sea International Film Festival Photos from the events in Saudi Arabia showcases Ranveer s stylish and unique outfit choices Talking about 83 the film stars Ranveer as legendary cricketer Kapil Dev It showcases Team India s journey to winning the Cricket World Cup in 1983 It also stars Deepika Padukone in a pivotal role It will release on December 24 2021 Also Read 83 Ranveer Singh features on Burj Khalifa Deepika Padukone can t keep her eyes off of him\n"
          ]
        }
      ]
    },
    {
      "cell_type": "code",
      "source": [
        "plt.hist(hist, density=False, bins=25)  # density=False would make counts\n",
        "plt.ylabel('Frequency')\n",
        "plt.xlabel('# alpha-numberic');"
      ],
      "metadata": {
        "colab": {
          "base_uri": "https://localhost:8080/",
          "height": 279
        },
        "id": "ciyeMCg9ppll",
        "outputId": "69733c96-d0fd-4bb0-f401-eed8f3b3fdc9"
      },
      "execution_count": null,
      "outputs": [
        {
          "output_type": "display_data",
          "data": {
            "image/png": "[encoded data removed]",
            "text/plain": [
              "<Figure size 432x288 with 1 Axes>"
            ]
          },
          "metadata": {
            "needs_background": "light"
          }
        }
      ]
    },
    {
      "cell_type": "code",
      "source": [
        "print(len(hist))"
      ],
      "metadata": {
        "colab": {
          "base_uri": "https://localhost:8080/"
        },
        "id": "IMw9YaUzrkSs",
        "outputId": "ad654da3-393d-4ce0-bfc2-a162cdf3b81e"
      },
      "execution_count": null,
      "outputs": [
        {
          "output_type": "stream",
          "name": "stdout",
          "text": [
            "2072\n"
          ]
        }
      ]
    },
    {
      "cell_type": "markdown",
      "source": [
        "#Binary Classification"
      ],
      "metadata": {
        "id": "gjJrA-VOyiHu"
      }
    },
    {
      "cell_type": "code",
      "source": [
        "import numpy as np\n",
        "import random\n",
        "np.random.seed(42)\n",
        "random.seed(42)"
      ],
      "metadata": {
        "id": "J5SKdNDWrmo5"
      },
      "execution_count": 7,
      "outputs": []
    },
    {
      "cell_type": "markdown",
      "source": [
        "train test split"
      ],
      "metadata": {
        "id": "pomVZBh4_YK-"
      }
    },
    {
      "cell_type": "code",
      "source": [
        "from sklearn.model_selection import train_test_split\n",
        "train, test = train_test_split(df[[\"full_text\",\"root_label\"]], test_size=0.2)"
      ],
      "metadata": {
        "id": "TXaV03VsyrfA"
      },
      "execution_count": 16,
      "outputs": []
    },
    {
      "cell_type": "code",
      "source": [
        "print(\"train set size  = \",len(train))\n",
        "print(\"test set size  = \",len(test))"
      ],
      "metadata": {
        "colab": {
          "base_uri": "https://localhost:8080/"
        },
        "id": "nztngY9ZzCn6",
        "outputId": "33356095-3585-4fe7-c509-2d963492b560"
      },
      "execution_count": 9,
      "outputs": [
        {
          "output_type": "stream",
          "name": "stdout",
          "text": [
            "train set size  =  1657\n",
            "test set size  =  415\n"
          ]
        }
      ]
    },
    {
      "cell_type": "markdown",
      "source": [
        "Define Stopwords"
      ],
      "metadata": {
        "id": "PfTwK0n-Gxeg"
      }
    },
    {
      "cell_type": "code",
      "source": [
        "import nltk\n",
        "nltk.download('stopwords')\n",
        "from sklearn.feature_extraction import text\n",
        "stop_words_skt = text.ENGLISH_STOP_WORDS\n",
        "from nltk.corpus import stopwords\n",
        "nltk.download('stopwords' )\n",
        "nltk.download('punkt')\n",
        "nltk.download('averaged_perceptron_tagger')\n",
        "nltk.download('wordnet')\n",
        "stop_words_en = stopwords.words('english')\n",
        "from string import punctuation\n",
        "combined_stopwords = set.union(set(stop_words_en),set(punctuation),set(stop_words_skt))"
      ],
      "metadata": {
        "colab": {
          "base_uri": "https://localhost:8080/"
        },
        "id": "FGWOXIsyGwri",
        "outputId": "db135fe5-aad2-4447-b86c-51f1a5377d9c"
      },
      "execution_count": 10,
      "outputs": [
        {
          "output_type": "stream",
          "name": "stdout",
          "text": [
            "[nltk_data] Downloading package stopwords to /root/nltk_data...\n",
            "[nltk_data]   Package stopwords is already up-to-date!\n",
            "[nltk_data] Downloading package stopwords to /root/nltk_data...\n",
            "[nltk_data]   Package stopwords is already up-to-date!\n",
            "[nltk_data] Downloading package punkt to /root/nltk_data...\n",
            "[nltk_data]   Package punkt is already up-to-date!\n",
            "[nltk_data] Downloading package averaged_perceptron_tagger to\n",
            "[nltk_data]     /root/nltk_data...\n",
            "[nltk_data]   Package averaged_perceptron_tagger is already up-to-\n",
            "[nltk_data]       date!\n",
            "[nltk_data] Downloading package wordnet to /root/nltk_data...\n",
            "[nltk_data]   Package wordnet is already up-to-date!\n"
          ]
        }
      ]
    },
    {
      "cell_type": "markdown",
      "source": [
        "Feature Extraction"
      ],
      "metadata": {
        "id": "a9rzI9vd_dVz"
      }
    },
    {
      "cell_type": "code",
      "source": [
        "def penn2morphy(penntag):\n",
        "    \"\"\" Converts Penn Treebank tags to WordNet. \"\"\"\n",
        "    morphy_tag = {'NN':'n', 'JJ':'a',\n",
        "                  'VB':'v', 'RB':'r'}\n",
        "    try:\n",
        "        return morphy_tag[penntag[:2]]\n",
        "    except:\n",
        "        return 'n'"
      ],
      "metadata": {
        "id": "kYNHYz25KYtf"
      },
      "execution_count": 11,
      "outputs": []
    },
    {
      "cell_type": "code",
      "source": [
        "import re\n",
        "from nltk import pos_tag\n",
        "wnl = nltk.wordnet.WordNetLemmatizer()\n",
        "def clean(text):\n",
        "        text = re.sub(r'^https?:\\/\\/.*[\\r\\n]*', '', text, flags=re.MULTILINE)\n",
        "        texter = re.sub(r\"<br />\", \" \", text)\n",
        "        texter = re.sub(r\"&quot;\", \"\\\"\",texter)\n",
        "        texter = re.sub('&#39;', \"\\\"\", texter)\n",
        "        # texter = re.sub(r'[0-9]', '', texter)  #to remove digits\n",
        "        texter = re.sub('\\n', \" \", texter)\n",
        "        texter = re.sub(' u ',\" you \", texter)\n",
        "        texter = re.sub('`',\"\", texter)\n",
        "        texter = re.sub(' +', ' ', texter)\n",
        "        texter = re.sub(r\"(!)\\1+\", r\"!\", texter)\n",
        "        texter = re.sub(r\"(\\?)\\1+\", r\"?\", texter)\n",
        "        texter = re.sub('&amp;', 'and', texter)\n",
        "        texter = re.sub('\\r', ' ',texter)\n",
        "        clean = re.compile('<.*?>')\n",
        "        texter = texter.encode('ascii', 'ignore').decode('ascii')\n",
        "        texter = re.sub(clean, '', texter)\n",
        "        # texter = re.sub(r'[^a-zA-Z]+', ' ', texter) #only consider alphabets removed punctuation also can be a issue\n",
        "        texter = texter.lower()\n",
        "        # lemmatization with stop word removal\n",
        "        # texter = [wnl.lemmatize(word, pos=penn2morphy(tag)) \n",
        "        #     for word, tag in pos_tag(nltk.word_tokenize(texter)) if not word in combined_stopwords]\n",
        "        # texter=' '.join(texter)\n",
        "\n",
        "        if texter == \"\":\n",
        "            texter = \"\"\n",
        "        return texter"
      ],
      "metadata": {
        "id": "AX534uCSzZ4e"
      },
      "execution_count": 17,
      "outputs": []
    },
    {
      "cell_type": "code",
      "source": [
        "def lemmatization_and_stopword(dataset):\n",
        "    print(len(dataset.full_text))\n",
        "    for i in dataset.full_text.keys():\n",
        "        dataset.full_text[i] = clean(dataset.full_text[i])\n",
        "    return dataset"
      ],
      "metadata": {
        "id": "KSNYigrUDQ2Q"
      },
      "execution_count": 18,
      "outputs": []
    },
    {
      "cell_type": "code",
      "source": [
        "train = lemmatization_and_stopword(train)\n",
        "test = lemmatization_and_stopword(test)"
      ],
      "metadata": {
        "colab": {
          "base_uri": "https://localhost:8080/"
        },
        "id": "DKC7X-FEMj_p",
        "outputId": "ae9645cb-a3ee-413e-a5ca-db21fb52602a"
      },
      "execution_count": 19,
      "outputs": [
        {
          "output_type": "stream",
          "name": "stdout",
          "text": [
            "1657\n",
            "415\n"
          ]
        }
      ]
    },
    {
      "cell_type": "markdown",
      "source": [
        "count vector"
      ],
      "metadata": {
        "id": "ZQs2TmD1SVeh"
      }
    },
    {
      "cell_type": "code",
      "source": [
        "from sklearn.feature_extraction.text import CountVectorizer\n",
        "analyzer = CountVectorizer().build_analyzer()\n",
        "def stemmed_words(doc):\n",
        "    return (stemmer.stem(w) for w in analyzer(doc))\n",
        "def stem_rmv_punc(doc):\n",
        "    return (word for word in lemmatize_sent(analyzer(doc)) if word not in combined_stopwords and not word.isdigit())\n",
        "def lemmatize_sent(list_word): \n",
        "    # Text input is string, returns array of lowercased strings(words).\n",
        "    return [wnl.lemmatize(word.lower(), pos=penn2morphy(tag)) \n",
        "            for word, tag in pos_tag(list_word)]"
      ],
      "metadata": {
        "id": "W8YqPXRiQS-6"
      },
      "execution_count": 20,
      "outputs": []
    },
    {
      "cell_type": "code",
      "source": [
        "count_vect1 = CountVectorizer(min_df=3,analyzer=stem_rmv_punc)\n",
        "X_train_counts = count_vect1.fit_transform(train.full_text)"
      ],
      "metadata": {
        "id": "uO0sEvczR5K8"
      },
      "execution_count": 31,
      "outputs": []
    },
    {
      "cell_type": "code",
      "source": [
        "X_test_counts = count_vect1.transform(test.full_text)"
      ],
      "metadata": {
        "id": "xOjrLBP4-g5n"
      },
      "execution_count": 32,
      "outputs": []
    },
    {
      "cell_type": "markdown",
      "source": [
        "Tf-idf"
      ],
      "metadata": {
        "id": "_aQvOxTkSao8"
      }
    },
    {
      "cell_type": "code",
      "source": [
        "from sklearn.feature_extraction.text import TfidfTransformer\n",
        "tfidf_transformer = TfidfTransformer()\n",
        "X_train_tfidf = tfidf_transformer.fit_transform(X_train_counts)\n",
        "X_test_tfidf = tfidf_transformer.transform(X_test_counts)"
      ],
      "metadata": {
        "id": "G7SD4MLbR8sD"
      },
      "execution_count": 33,
      "outputs": []
    },
    {
      "cell_type": "markdown",
      "source": [
        "Convert root labels into numeric form"
      ],
      "metadata": {
        "id": "-losQtb-V3vl"
      }
    },
    {
      "cell_type": "code",
      "source": [
        "from sklearn.preprocessing import LabelEncoder\n",
        "le=LabelEncoder()\n",
        "Y_train =le.fit_transform(train.root_label)\n",
        "Y_test = le.transform(test.root_label)"
      ],
      "metadata": {
        "id": "NF6rkuhPSgLP"
      },
      "execution_count": 34,
      "outputs": []
    },
    {
      "cell_type": "code",
      "source": [
        "print(train.root_label[0],Y_train[0])"
      ],
      "metadata": {
        "colab": {
          "base_uri": "https://localhost:8080/"
        },
        "id": "hZE3KKWCWKgy",
        "outputId": "1098737e-c36a-48ed-db6a-e5dd43a48cfd"
      },
      "execution_count": 35,
      "outputs": [
        {
          "output_type": "stream",
          "name": "stdout",
          "text": [
            "sports 0\n"
          ]
        }
      ]
    },
    {
      "cell_type": "markdown",
      "source": [
        "Dimensionality Reduction"
      ],
      "metadata": {
        "id": "WnInXwBMccxX"
      }
    },
    {
      "cell_type": "code",
      "source": [
        "from sklearn.decomposition import NMF\n",
        "\n",
        "nmf = NMF(n_components=50, init='random', random_state=42)\n",
        "W_train_nmf = nmf.fit_transform(X_train_tfidf)"
      ],
      "metadata": {
        "colab": {
          "base_uri": "https://localhost:8080/"
        },
        "id": "WcOYJk9gWNB6",
        "outputId": "e38fa452-caa1-4361-82fd-d2cab9cce855"
      },
      "execution_count": 88,
      "outputs": [
        {
          "output_type": "stream",
          "name": "stderr",
          "text": [
            "/usr/local/lib/python3.7/dist-packages/sklearn/decomposition/_nmf.py:1641: ConvergenceWarning: Maximum number of iterations 200 reached. Increase it to improve convergence.\n",
            "  ConvergenceWarning,\n"
          ]
        }
      ]
    },
    {
      "cell_type": "code",
      "source": [
        "print(\"Reconstruction error in NMF = \",nmf.reconstruction_err_)"
      ],
      "metadata": {
        "colab": {
          "base_uri": "https://localhost:8080/"
        },
        "id": "1dMDcLi6c2FS",
        "outputId": "3c7cee98-f6fe-4638-ba4c-109984de49ce"
      },
      "execution_count": 89,
      "outputs": [
        {
          "output_type": "stream",
          "name": "stdout",
          "text": [
            "Reconstruction error in NMF =  34.368173401018474\n"
          ]
        }
      ]
    },
    {
      "cell_type": "code",
      "source": [
        "from sklearn.decomposition import TruncatedSVD\n",
        "svd = TruncatedSVD(n_components=50, n_iter=7, random_state=42)"
      ],
      "metadata": {
        "id": "g_r4BAzydGMZ"
      },
      "execution_count": 117,
      "outputs": []
    },
    {
      "cell_type": "code",
      "source": [
        "W_train_svd = svd.fit_transform(X_train_tfidf)"
      ],
      "metadata": {
        "id": "XmW_6rwxHgaN"
      },
      "execution_count": 118,
      "outputs": []
    },
    {
      "cell_type": "code",
      "source": [
        "svd.explained_variance_ratio_"
      ],
      "metadata": {
        "colab": {
          "base_uri": "https://localhost:8080/"
        },
        "id": "r9zE3hx0Hnaj",
        "outputId": "ed0869c8-6fdc-4a98-92ef-a80cb47c24ce"
      },
      "execution_count": 119,
      "outputs": [
        {
          "output_type": "execute_result",
          "data": {
            "text/plain": [
              "array([0.00539039, 0.02000825, 0.019249  , 0.01560421, 0.0131025 ,\n",
              "       0.01228693, 0.01041722, 0.00970967, 0.00880077, 0.00883258,\n",
              "       0.00819134, 0.00733393, 0.0072292 , 0.00702135, 0.00558609,\n",
              "       0.00532393, 0.00486275, 0.00461055, 0.00445977, 0.00431718,\n",
              "       0.00426225, 0.00407942, 0.00403631, 0.00395068, 0.00385965,\n",
              "       0.0037861 , 0.00376187, 0.00370692, 0.00359213, 0.00342742,\n",
              "       0.00335322, 0.00326513, 0.00324261, 0.00309276, 0.00304501,\n",
              "       0.00298689, 0.00295238, 0.00286568, 0.0028159 , 0.00275558,\n",
              "       0.00272397, 0.00270032, 0.00265257, 0.0025996 , 0.00256048,\n",
              "       0.0024783 , 0.00238913, 0.00237346, 0.0023674 , 0.00232802])"
            ]
          },
          "metadata": {},
          "execution_count": 119
        }
      ]
    },
    {
      "cell_type": "code",
      "source": [
        "import matplotlib.pyplot as plt\n",
        "plt.plot(svd.explained_variance_ratio_[1:]) \n",
        "plt.show()"
      ],
      "metadata": {
        "colab": {
          "base_uri": "https://localhost:8080/",
          "height": 265
        },
        "id": "8Sj9nz5KIgXo",
        "outputId": "7602d3df-1aa8-49da-8c0b-00a1b6ea33a6"
      },
      "execution_count": 120,
      "outputs": [
        {
          "output_type": "display_data",
          "data": {
            "image/png": "[encoded data removed]",
            "text/plain": [
              "<Figure size 432x288 with 1 Axes>"
            ]
          },
          "metadata": {
            "needs_background": "light"
          }
        }
      ]
    },
    {
      "cell_type": "code",
      "source": [
        "X_train_recons = svd.inverse_transform(W_train_svd)"
      ],
      "metadata": {
        "id": "V0Svz93JI8bk"
      },
      "execution_count": 121,
      "outputs": []
    },
    {
      "cell_type": "code",
      "source": [
        "print(\"Reconstruction error in SVD = \",np.linalg.norm(X_train_tfidf-X_train_recons))"
      ],
      "metadata": {
        "colab": {
          "base_uri": "https://localhost:8080/"
        },
        "id": "6cXqdvYpOk_W",
        "outputId": "5cd971b5-c283-4857-ce6a-6415f8e910ec"
      },
      "execution_count": 123,
      "outputs": [
        {
          "output_type": "stream",
          "name": "stdout",
          "text": [
            "Reconstruction error in SVD =  34.0652556579666\n"
          ]
        }
      ]
    },
    {
      "cell_type": "markdown",
      "source": [
        "#Classification Algorithm"
      ],
      "metadata": {
        "id": "HnTOMdO6yqVI"
      }
    },
    {
      "cell_type": "markdown",
      "source": [
        "SVM report (accuracy, recall, precision and F-1 score)\n",
        "<br>Doubt ?? hard svm make number of iteration to higher number "
      ],
      "metadata": {
        "id": "J5w2Xijtyt_l"
      }
    },
    {
      "cell_type": "code",
      "source": [
        "from sklearn.metrics import confusion_matrix\n",
        "from sklearn.metrics import accuracy_score\n",
        "from sklearn.metrics import precision_score\n",
        "from sklearn.metrics import recall_score\n",
        "from sklearn.metrics import f1_score\n",
        "from sklearn.metrics import roc_curve\n",
        "from sklearn.metrics import auc\n",
        "import matplotlib.pyplot as plt\n",
        "%matplotlib inline\n",
        "def plot_roc(fpr, tpr):\n",
        "    fig, ax = plt.subplots()\n",
        "\n",
        "    roc_auc = auc(fpr,tpr)\n",
        "\n",
        "    ax.plot(fpr, tpr, lw=2, label= 'area under curve = %0.4f' % roc_auc)\n",
        "\n",
        "    ax.grid(color='0.7', linestyle='--', linewidth=1)\n",
        "\n",
        "    ax.set_xlim([-0.1, 1.1])\n",
        "    ax.set_ylim([0.0, 1.05])\n",
        "    ax.set_xlabel('False Positive Rate',fontsize=15)\n",
        "    ax.set_ylabel('True Positive Rate',fontsize=15)\n",
        "\n",
        "    ax.legend(loc=\"lower right\")\n",
        "\n",
        "    for label in ax.get_xticklabels()+ax.get_yticklabels():\n",
        "        label.set_fontsize(15)"
      ],
      "metadata": {
        "id": "nDGP3mqRPCgJ"
      },
      "execution_count": 68,
      "outputs": []
    },
    {
      "cell_type": "code",
      "source": [
        "# prob_score = pipe.predict_proba(test_data)\n",
        "\n",
        "# fpr, tpr, _ = roc_curve(test_label, prob_score[:,1])"
      ],
      "metadata": {
        "id": "EzjjT2Mvz3FU"
      },
      "execution_count": null,
      "outputs": []
    },
    {
      "cell_type": "code",
      "source": [
        "from sklearn.decomposition import TruncatedSVD\n",
        "svd = TruncatedSVD(n_components=10, n_iter=7, random_state=42)\n",
        "W_train_svd = svd.fit_transform(X_train_tfidf)\n",
        "W_test_svd = svd.transform(X_test_tfidf)"
      ],
      "metadata": {
        "id": "KdnTHWOO6f5Z"
      },
      "execution_count": 52,
      "outputs": []
    },
    {
      "cell_type": "code",
      "source": [
        "W_train_svd[0]"
      ],
      "metadata": {
        "colab": {
          "base_uri": "https://localhost:8080/"
        },
        "id": "WIZN6Sf275_L",
        "outputId": "5024400f-3af7-4510-d21a-6d174c81efb4"
      },
      "execution_count": 48,
      "outputs": [
        {
          "output_type": "execute_result",
          "data": {
            "text/plain": [
              "array([ 0.17757321,  0.02030553,  0.00655751,  0.02866301, -0.06249099,\n",
              "       -0.01633809, -0.0542531 ,  0.01434009, -0.00611295,  0.00950024])"
            ]
          },
          "metadata": {},
          "execution_count": 48
        }
      ]
    },
    {
      "cell_type": "code",
      "source": [
        "# from sklearn.naive_bayes import MultinomialNB\n",
        "# clf = MultinomialNB().fit(W_train, twenty_train.target)\n",
        "# predicted = clf.predict(W_test)\n",
        "from sklearn.pipeline import make_pipeline\n",
        "from sklearn.svm import LinearSVC\n",
        "from sklearn.preprocessing import StandardScaler\n",
        "hard_svm = LinearSVC(C=1000,max_iter=120000)\n",
        "hard_svm.fit(W_train_svd,Y_train)"
      ],
      "metadata": {
        "colab": {
          "base_uri": "https://localhost:8080/"
        },
        "id": "cZxefwXZ0i3J",
        "outputId": "d636cf68-8c97-41fa-d144-d2273d4d81fe"
      },
      "execution_count": 59,
      "outputs": [
        {
          "output_type": "execute_result",
          "data": {
            "text/plain": [
              "LinearSVC(C=1000, max_iter=120000)"
            ]
          },
          "metadata": {},
          "execution_count": 59
        }
      ]
    },
    {
      "cell_type": "code",
      "source": [
        "predicted = hard_svm.predict(W_test_svd)"
      ],
      "metadata": {
        "id": "cLhOHI3B7gmJ"
      },
      "execution_count": 60,
      "outputs": []
    },
    {
      "cell_type": "code",
      "source": [
        "print(\"accuracy = \",accuracy_score(Y_test, predicted),\" precision = \",precision_score(Y_test, predicted), \" recall = \",recall_score(Y_test, predicted))"
      ],
      "metadata": {
        "colab": {
          "base_uri": "https://localhost:8080/"
        },
        "id": "UAoUY1v4GkpO",
        "outputId": "4f54896e-0521-4351-ad6f-89f83f151a5b"
      },
      "execution_count": 69,
      "outputs": [
        {
          "output_type": "stream",
          "name": "stdout",
          "text": [
            "accuracy =  0.9542168674698795  precision =  0.9439252336448598  recall =  0.9665071770334929\n"
          ]
        }
      ]
    },
    {
      "cell_type": "code",
      "source": [
        "fpr, tpr, _ = roc_curve(Y_test, predicted)\n",
        "plot_roc(fpr, tpr)"
      ],
      "metadata": {
        "colab": {
          "base_uri": "https://localhost:8080/",
          "height": 289
        },
        "id": "0Ppl5a3_CuEb",
        "outputId": "5f864178-08b4-47df-98e3-6626e2bbfd6e"
      },
      "execution_count": 65,
      "outputs": [
        {
          "output_type": "display_data",
          "data": {
            "image/png": "[encoded data removed]",
            "text/plain": [
              "<Figure size 432x288 with 1 Axes>"
            ]
          },
          "metadata": {
            "needs_background": "light"
          }
        }
      ]
    },
    {
      "cell_type": "code",
      "source": [
        "soft_svm = LinearSVC(C=0.0001,max_iter=120000)\n",
        "soft_svm.fit(W_train_svd,Y_train)\n",
        "predicted_soft = soft_svm.predict(W_test_svd)"
      ],
      "metadata": {
        "id": "HVrOd9TDCvdt"
      },
      "execution_count": 66,
      "outputs": []
    },
    {
      "cell_type": "code",
      "source": [
        "print(\"accuracy = \",accuracy_score(Y_test, predicted_soft),\" precision = \",precision_score(Y_test, predicted_soft), \" recall = \",recall_score(Y_test, predicted_soft))"
      ],
      "metadata": {
        "colab": {
          "base_uri": "https://localhost:8080/"
        },
        "id": "RUTToGfxHZBG",
        "outputId": "ea5b5122-da07-4ffe-8aaa-ea2f1a6d52fb"
      },
      "execution_count": 70,
      "outputs": [
        {
          "output_type": "stream",
          "name": "stdout",
          "text": [
            "accuracy =  0.9349397590361446  precision =  0.955  recall =  0.9138755980861244\n"
          ]
        }
      ]
    },
    {
      "cell_type": "code",
      "source": [
        "fpr, tpr, _ = roc_curve(Y_test, predicted_soft)\n",
        "plot_roc(fpr, tpr)"
      ],
      "metadata": {
        "colab": {
          "base_uri": "https://localhost:8080/",
          "height": 289
        },
        "id": "CYz6NulgEdyL",
        "outputId": "dea2519a-6fb0-4094-cb0e-e0eb6be78c17"
      },
      "execution_count": 67,
      "outputs": [
        {
          "output_type": "display_data",
          "data": {
            "image/png": "[encoded data removed]",
            "text/plain": [
              "<Figure size 432x288 with 1 Axes>"
            ]
          },
          "metadata": {
            "needs_background": "light"
          }
        }
      ]
    },
    {
      "cell_type": "code",
      "source": [
        "hard_svm2 = LinearSVC(C=100000,max_iter=12000000)\n",
        "hard_svm2.fit(W_train_svd,Y_train)"
      ],
      "metadata": {
        "colab": {
          "base_uri": "https://localhost:8080/"
        },
        "id": "GBuENe21EgvV",
        "outputId": "fc4a8491-edc9-4c35-843e-f21bab24be29"
      },
      "execution_count": 73,
      "outputs": [
        {
          "output_type": "execute_result",
          "data": {
            "text/plain": [
              "LinearSVC(C=100000, max_iter=12000000)"
            ]
          },
          "metadata": {},
          "execution_count": 73
        }
      ]
    },
    {
      "cell_type": "code",
      "source": [
        "predicted_hard2 = hard_svm2.predict(W_test_svd)"
      ],
      "metadata": {
        "id": "LG3WPnhYIUhf"
      },
      "execution_count": 74,
      "outputs": []
    },
    {
      "cell_type": "code",
      "source": [
        "print(\"accuracy = \",accuracy_score(Y_test, predicted_hard2),\" precision = \",precision_score(Y_test, predicted_hard2), \" recall = \",recall_score(Y_test, predicted_hard2))"
      ],
      "metadata": {
        "colab": {
          "base_uri": "https://localhost:8080/"
        },
        "id": "-IwGlZBuKQQY",
        "outputId": "78aff8cc-3aec-493e-e673-1793fb99f982"
      },
      "execution_count": 75,
      "outputs": [
        {
          "output_type": "stream",
          "name": "stdout",
          "text": [
            "accuracy =  0.9542168674698795  precision =  0.9439252336448598  recall =  0.9665071770334929\n"
          ]
        }
      ]
    },
    {
      "cell_type": "code",
      "source": [
        "fpr, tpr, _ = roc_curve(Y_test, predicted_hard2)\n",
        "plot_roc(fpr, tpr)"
      ],
      "metadata": {
        "colab": {
          "base_uri": "https://localhost:8080/",
          "height": 289
        },
        "id": "jpCKB-fBKWOz",
        "outputId": "1a9505f8-ec86-4719-c547-f87337b67e6e"
      },
      "execution_count": 76,
      "outputs": [
        {
          "output_type": "display_data",
          "data": {
            "image/png": "[encoded data removed]",
            "text/plain": [
              "<Figure size 432x288 with 1 Axes>"
            ]
          },
          "metadata": {
            "needs_background": "light"
          }
        }
      ]
    },
    {
      "cell_type": "markdown",
      "source": [
        "Logistic Regression"
      ],
      "metadata": {
        "id": "nA5537oVKocD"
      }
    },
    {
      "cell_type": "code",
      "source": [
        "from sklearn.linear_model import LogisticRegression\n",
        "logreg = LogisticRegression(penalty='none',random_state=42)\n",
        "logreg.fit(W_train_svd,Y_train)"
      ],
      "metadata": {
        "colab": {
          "base_uri": "https://localhost:8080/"
        },
        "id": "NuZhWjW-Kiey",
        "outputId": "5b37feae-a64b-49bb-beb8-b33248811ff6"
      },
      "execution_count": 77,
      "outputs": [
        {
          "output_type": "execute_result",
          "data": {
            "text/plain": [
              "LogisticRegression(penalty='none', random_state=42)"
            ]
          },
          "metadata": {},
          "execution_count": 77
        }
      ]
    },
    {
      "cell_type": "code",
      "source": [
        "predicted_logreg = logreg.predict(W_test_svd)"
      ],
      "metadata": {
        "id": "EzvXn7hmMVJZ"
      },
      "execution_count": 78,
      "outputs": []
    },
    {
      "cell_type": "code",
      "source": [
        "print(\"accuracy = \",accuracy_score(Y_test, predicted_logreg),\" precision = \",precision_score(Y_test, predicted_logreg), \" recall = \",recall_score(Y_test, predicted_logreg))"
      ],
      "metadata": {
        "colab": {
          "base_uri": "https://localhost:8080/"
        },
        "id": "HSqHaYaBMdpt",
        "outputId": "b85e1094-7357-49a2-bbc8-d7b6d892ac9b"
      },
      "execution_count": 79,
      "outputs": [
        {
          "output_type": "stream",
          "name": "stdout",
          "text": [
            "accuracy =  0.9518072289156626  precision =  0.9395348837209302  recall =  0.9665071770334929\n"
          ]
        }
      ]
    },
    {
      "cell_type": "code",
      "source": [
        "fpr, tpr, _ = roc_curve(Y_test, predicted_logreg)\n",
        "plot_roc(fpr, tpr)"
      ],
      "metadata": {
        "colab": {
          "base_uri": "https://localhost:8080/",
          "height": 289
        },
        "id": "7aF8KlPDMjZE",
        "outputId": "20820e83-c270-4515-b149-15bf1fe738c1"
      },
      "execution_count": 80,
      "outputs": [
        {
          "output_type": "display_data",
          "data": {
            "image/png": "[encoded data removed]",
            "text/plain": [
              "<Figure size 432x288 with 1 Axes>"
            ]
          },
          "metadata": {
            "needs_background": "light"
          }
        }
      ]
    },
    {
      "cell_type": "markdown",
      "source": [
        "L2 regularization Ridge Regression"
      ],
      "metadata": {
        "id": "QiSfhuCsNovk"
      }
    },
    {
      "cell_type": "code",
      "source": [
        "logregl2 = LogisticRegression(penalty='l2',random_state=42,C=100)\n",
        "logregl2.fit(W_train_svd,Y_train)"
      ],
      "metadata": {
        "colab": {
          "base_uri": "https://localhost:8080/"
        },
        "id": "SeK36I7RMwpO",
        "outputId": "5489cf53-1d5d-4efe-bb41-f681f4523f10"
      },
      "execution_count": 95,
      "outputs": [
        {
          "output_type": "execute_result",
          "data": {
            "text/plain": [
              "LogisticRegression(C=100, random_state=42)"
            ]
          },
          "metadata": {},
          "execution_count": 95
        }
      ]
    },
    {
      "cell_type": "code",
      "source": [
        "predicted_logregl2 = logregl2.predict(W_test_svd)"
      ],
      "metadata": {
        "id": "SrvFUsfwOJSC"
      },
      "execution_count": 96,
      "outputs": []
    },
    {
      "cell_type": "code",
      "source": [
        "print(\"accuracy = \",accuracy_score(Y_test, predicted_logregl2),\" precision = \",precision_score(Y_test, predicted_logregl2), \" recall = \",recall_score(Y_test, predicted_logregl2))"
      ],
      "metadata": {
        "colab": {
          "base_uri": "https://localhost:8080/"
        },
        "id": "j3eGtMpFOMRC",
        "outputId": "4a5fe5c6-57c9-449c-a60a-f27e12e5a189"
      },
      "execution_count": 97,
      "outputs": [
        {
          "output_type": "stream",
          "name": "stdout",
          "text": [
            "accuracy =  0.9542168674698795  precision =  0.9481132075471698  recall =  0.9617224880382775\n"
          ]
        }
      ]
    },
    {
      "cell_type": "code",
      "source": [
        "fpr, tpr, _ = roc_curve(Y_test, predicted_logregl2)\n",
        "plot_roc(fpr, tpr)"
      ],
      "metadata": {
        "colab": {
          "base_uri": "https://localhost:8080/",
          "height": 289
        },
        "id": "v7nC0hlfOZtZ",
        "outputId": "9ee5d241-1060-4e2d-fdf7-a8b71592c6ca"
      },
      "execution_count": 98,
      "outputs": [
        {
          "output_type": "display_data",
          "data": {
            "image/png": "[encoded data removed]",
            "text/plain": [
              "<Figure size 432x288 with 1 Axes>"
            ]
          },
          "metadata": {
            "needs_background": "light"
          }
        }
      ]
    },
    {
      "cell_type": "markdown",
      "source": [
        "L1 regularization Lasso Regression"
      ],
      "metadata": {
        "id": "ZaJmDANaOlkx"
      }
    },
    {
      "cell_type": "code",
      "source": [
        "logregl1 = LogisticRegression(penalty='l1',random_state=42,C=10, solver='liblinear')\n",
        "logregl1.fit(W_train_svd,Y_train)"
      ],
      "metadata": {
        "colab": {
          "base_uri": "https://localhost:8080/"
        },
        "id": "1R-mv7mhOgem",
        "outputId": "5804c9fe-81e7-4124-e6ed-f0490605e897"
      },
      "execution_count": 113,
      "outputs": [
        {
          "output_type": "execute_result",
          "data": {
            "text/plain": [
              "LogisticRegression(C=10, penalty='l1', random_state=42, solver='liblinear')"
            ]
          },
          "metadata": {},
          "execution_count": 113
        }
      ]
    },
    {
      "cell_type": "code",
      "source": [
        "predicted_logregl1 = logregl1.predict(W_test_svd)"
      ],
      "metadata": {
        "id": "JbretkyEOyHI"
      },
      "execution_count": 114,
      "outputs": []
    },
    {
      "cell_type": "code",
      "source": [
        "print(\"accuracy = \",accuracy_score(Y_test, predicted_logregl1),\" precision = \",precision_score(Y_test, predicted_logregl1), \" recall = \",recall_score(Y_test, predicted_logregl1))"
      ],
      "metadata": {
        "colab": {
          "base_uri": "https://localhost:8080/"
        },
        "id": "nWqYUMxLPZRw",
        "outputId": "c05a7e7d-3fa5-4d25-f32c-67556a97935b"
      },
      "execution_count": 115,
      "outputs": [
        {
          "output_type": "stream",
          "name": "stdout",
          "text": [
            "accuracy =  0.9542168674698795  precision =  0.9481132075471698  recall =  0.9617224880382775\n"
          ]
        }
      ]
    },
    {
      "cell_type": "code",
      "source": [
        "fpr, tpr, _ = roc_curve(Y_test, predicted_logregl1)\n",
        "plot_roc(fpr, tpr)"
      ],
      "metadata": {
        "colab": {
          "base_uri": "https://localhost:8080/",
          "height": 289
        },
        "id": "st6iyEX1PdVS",
        "outputId": "6ce0c405-1404-42e4-f894-68d56f48b67d"
      },
      "execution_count": 116,
      "outputs": [
        {
          "output_type": "display_data",
          "data": {
            "image/png": "[encoded data removed]",
            "text/plain": [
              "<Figure size 432x288 with 1 Axes>"
            ]
          },
          "metadata": {
            "needs_background": "light"
          }
        }
      ]
    },
    {
      "cell_type": "markdown",
      "source": [
        "Naive Bayes Model"
      ],
      "metadata": {
        "id": "_kTY41i2QhXM"
      }
    },
    {
      "cell_type": "code",
      "source": [
        "from sklearn.naive_bayes import GaussianNB\n",
        "gnb = GaussianNB()\n",
        "gnb.fit(W_train_svd,Y_train)"
      ],
      "metadata": {
        "colab": {
          "base_uri": "https://localhost:8080/"
        },
        "id": "nS6hw-zEPjlE",
        "outputId": "31a5ed0b-881c-4c9e-b15e-737fb0ad9ea0"
      },
      "execution_count": 117,
      "outputs": [
        {
          "output_type": "execute_result",
          "data": {
            "text/plain": [
              "GaussianNB()"
            ]
          },
          "metadata": {},
          "execution_count": 117
        }
      ]
    },
    {
      "cell_type": "code",
      "source": [
        "predicted_gnb = gnb.predict(W_test_svd)"
      ],
      "metadata": {
        "id": "88e6u8-sXQyH"
      },
      "execution_count": 118,
      "outputs": []
    },
    {
      "cell_type": "code",
      "source": [
        "print(\"accuracy = \",accuracy_score(Y_test, predicted_gnb),\" precision = \",precision_score(Y_test, predicted_gnb), \" recall = \",recall_score(Y_test, predicted_gnb))"
      ],
      "metadata": {
        "colab": {
          "base_uri": "https://localhost:8080/"
        },
        "id": "YC9qcFUOXcTK",
        "outputId": "f181fae4-1308-49a7-a044-81e7ee783eef"
      },
      "execution_count": 119,
      "outputs": [
        {
          "output_type": "stream",
          "name": "stdout",
          "text": [
            "accuracy =  0.9228915662650602  precision =  0.8933333333333333  recall =  0.9617224880382775\n"
          ]
        }
      ]
    },
    {
      "cell_type": "code",
      "source": [
        "fpr, tpr, _ = roc_curve(Y_test, predicted_gnb)\n",
        "plot_roc(fpr, tpr)"
      ],
      "metadata": {
        "colab": {
          "base_uri": "https://localhost:8080/",
          "height": 289
        },
        "id": "pRZAcTimXy5U",
        "outputId": "79496217-1ad3-4738-e733-5eea5d5d5d59"
      },
      "execution_count": 120,
      "outputs": [
        {
          "output_type": "display_data",
          "data": {
            "image/png": "[encoded data removed]",
            "text/plain": [
              "<Figure size 432x288 with 1 Axes>"
            ]
          },
          "metadata": {
            "needs_background": "light"
          }
        }
      ]
    },
    {
      "cell_type": "code",
      "source": [
        ""
      ],
      "metadata": {
        "id": "8gwJr4nbX3tk"
      },
      "execution_count": null,
      "outputs": []
    }
  ]
}