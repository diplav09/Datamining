{
  "nbformat": 4,
  "nbformat_minor": 0,
  "metadata": {
    "colab": {
      "name": "Project1.ipynb",
      "provenance": [],
      "authorship_tag": "ABX9TyP0vav2qebf89DDAZ6fM+az",
      "include_colab_link": true
    },
    "kernelspec": {
      "name": "python3",
      "display_name": "Python 3"
    },
    "language_info": {
      "name": "python"
    }
  },
  "cells": [
    {
      "cell_type": "markdown",
      "metadata": {
        "id": "view-in-github",
        "colab_type": "text"
      },
      "source": [
        "<a href=\"https://colab.research.google.com/github/diplav09/Datamining/blob/main/Project1.ipynb\" target=\"_parent\"><img src=\"https://colab.research.google.com/assets/colab-badge.svg\" alt=\"Open In Colab\"/></a>"
      ]
    },
    {
      "cell_type": "code",
      "execution_count": 1,
      "metadata": {
        "colab": {
          "base_uri": "https://localhost:8080/"
        },
        "id": "uuIoaEkP9qqj",
        "outputId": "13a8c9e8-ef8c-45d0-f676-b7021bf3dc88"
      },
      "outputs": [
        {
          "output_type": "stream",
          "name": "stdout",
          "text": [
            "Mounted at /content/gdrive\n",
            "/content/gdrive/My Drive\n"
          ]
        }
      ],
      "source": [
        "import numpy as np\n",
        "from scipy.io import loadmat\n",
        "import os\n",
        "from google.colab import drive\n",
        "drive.mount('/content/gdrive')\n",
        "import os\n",
        "os.environ['SIR_CONFIG_DIR'] = \"/content/gdrive/My Drive/\"\n",
        "%cd /content/gdrive/My Drive/"
      ]
    },
    {
      "cell_type": "code",
      "source": [
        "cd Large_Scale_data_mining/Project1/"
      ],
      "metadata": {
        "colab": {
          "base_uri": "https://localhost:8080/"
        },
        "id": "SgaQdhRB-Ca8",
        "outputId": "eb75e180-3188-4422-de52-3dab860b63e1"
      },
      "execution_count": 2,
      "outputs": [
        {
          "output_type": "stream",
          "name": "stdout",
          "text": [
            "/content/gdrive/My Drive/Large_Scale_data_mining/Project1\n"
          ]
        }
      ]
    },
    {
      "cell_type": "code",
      "source": [
        "import pandas as pd"
      ],
      "metadata": {
        "id": "wS2cZJWs95Jf"
      },
      "execution_count": 3,
      "outputs": []
    },
    {
      "cell_type": "code",
      "source": [
        "fname = 'Project_1_dataset_01_01_2022.csv'\n",
        "df = pd.read_csv (fname)"
      ],
      "metadata": {
        "id": "qhPHSbER-Le6"
      },
      "execution_count": 4,
      "outputs": []
    },
    {
      "cell_type": "markdown",
      "source": [
        "**EDA**"
      ],
      "metadata": {
        "id": "PypbcLzvLdVU"
      }
    },
    {
      "cell_type": "code",
      "source": [
        "df.head(5)"
      ],
      "metadata": {
        "colab": {
          "base_uri": "https://localhost:8080/",
          "height": 441
        },
        "id": "RImSVPr7-ghB",
        "outputId": "dab278aa-c82e-47f5-b1fc-36eae2b046cf"
      },
      "execution_count": null,
      "outputs": [
        {
          "output_type": "execute_result",
          "data": {
            "text/html": [
              "\n",
              "  <div id=\"df-81871cd7-4282-45c3-8af4-e1adfa98e96b\">\n",
              "    <div class=\"colab-df-container\">\n",
              "      <div>\n",
              "<style scoped>\n",
              "    .dataframe tbody tr th:only-of-type {\n",
              "        vertical-align: middle;\n",
              "    }\n",
              "\n",
              "    .dataframe tbody tr th {\n",
              "        vertical-align: top;\n",
              "    }\n",
              "\n",
              "    .dataframe thead th {\n",
              "        text-align: right;\n",
              "    }\n",
              "</style>\n",
              "<table border=\"1\" class=\"dataframe\">\n",
              "  <thead>\n",
              "    <tr style=\"text-align: right;\">\n",
              "      <th></th>\n",
              "      <th>Unnamed: 0</th>\n",
              "      <th>full_text</th>\n",
              "      <th>summary</th>\n",
              "      <th>keywords</th>\n",
              "      <th>publish_date</th>\n",
              "      <th>authors</th>\n",
              "      <th>url</th>\n",
              "      <th>leaf_label</th>\n",
              "      <th>root_label</th>\n",
              "    </tr>\n",
              "  </thead>\n",
              "  <tbody>\n",
              "    <tr>\n",
              "      <th>0</th>\n",
              "      <td>590</td>\n",
              "      <td>Having made a massive impact in Saudi Arabia w...</td>\n",
              "      <td>Having made a massive impact in Saudi Arabia w...</td>\n",
              "      <td>['singhs', 'rooting', 'cool', 'saudi', 'style'...</td>\n",
              "      <td>NaN</td>\n",
              "      <td>[]</td>\n",
              "      <td>https://www.msn.com/en-in/entertainment/other/...</td>\n",
              "      <td>cricket</td>\n",
              "      <td>sports</td>\n",
              "    </tr>\n",
              "    <tr>\n",
              "      <th>1</th>\n",
              "      <td>388</td>\n",
              "      <td>Cricket is all about the emotional rollercoast...</td>\n",
              "      <td>No matter which team fans hope to win, every s...</td>\n",
              "      <td>['wants', 'fans', 'finals', 'cup', 'win', 'tou...</td>\n",
              "      <td>NaN</td>\n",
              "      <td>[]</td>\n",
              "      <td>https://www.prnewswire.com:443/news-releases/c...</td>\n",
              "      <td>cricket</td>\n",
              "      <td>sports</td>\n",
              "    </tr>\n",
              "    <tr>\n",
              "      <th>2</th>\n",
              "      <td>423</td>\n",
              "      <td>New Zealand announces back-to-back tours next ...</td>\n",
              "      <td>New Zealand announces back-to-back tours next ...</td>\n",
              "      <td>['test', 'west', 'tour', 'zealand', 'world', '...</td>\n",
              "      <td>2021-12-20 00:00:00</td>\n",
              "      <td>[]</td>\n",
              "      <td>https://www.aljazeera.com/news/2021/12/20/cric...</td>\n",
              "      <td>cricket</td>\n",
              "      <td>sports</td>\n",
              "    </tr>\n",
              "    <tr>\n",
              "      <th>3</th>\n",
              "      <td>563</td>\n",
              "      <td>It's not the first time cricket fans in the co...</td>\n",
              "      <td>Billed as one of the pre-tournament favourites...</td>\n",
              "      <td>['qualify', 'afghanistan', 'cup', 'world', 'ze...</td>\n",
              "      <td>NaN</td>\n",
              "      <td>[]</td>\n",
              "      <td>https://www.msn.com/en-in/news/other/t20-world...</td>\n",
              "      <td>cricket</td>\n",
              "      <td>sports</td>\n",
              "    </tr>\n",
              "    <tr>\n",
              "      <th>4</th>\n",
              "      <td>634</td>\n",
              "      <td>An employee works on a computer terminal again...</td>\n",
              "      <td>REUTERS/Sivaram VBENGALURU, Oct 11 (Reuters Br...</td>\n",
              "      <td>['success', 'tech', 'startup', 'talent', 'onli...</td>\n",
              "      <td>2021-10-11 00:00:00</td>\n",
              "      <td>['Una Galani']</td>\n",
              "      <td>https://www.reuters.com/breakingviews/india-in...</td>\n",
              "      <td>cricket</td>\n",
              "      <td>sports</td>\n",
              "    </tr>\n",
              "  </tbody>\n",
              "</table>\n",
              "</div>\n",
              "      <button class=\"colab-df-convert\" onclick=\"convertToInteractive('df-81871cd7-4282-45c3-8af4-e1adfa98e96b')\"\n",
              "              title=\"Convert this dataframe to an interactive table.\"\n",
              "              style=\"display:none;\">\n",
              "        \n",
              "  <svg xmlns=\"http://www.w3.org/2000/svg\" height=\"24px\"viewBox=\"0 0 24 24\"\n",
              "       width=\"24px\">\n",
              "    <path d=\"M0 0h24v24H0V0z\" fill=\"none\"/>\n",
              "    <path d=\"M18.56 5.44l.94 2.06.94-2.06 2.06-.94-2.06-.94-.94-2.06-.94 2.06-2.06.94zm-11 1L8.5 8.5l.94-2.06 2.06-.94-2.06-.94L8.5 2.5l-.94 2.06-2.06.94zm10 10l.94 2.06.94-2.06 2.06-.94-2.06-.94-.94-2.06-.94 2.06-2.06.94z\"/><path d=\"M17.41 7.96l-1.37-1.37c-.4-.4-.92-.59-1.43-.59-.52 0-1.04.2-1.43.59L10.3 9.45l-7.72 7.72c-.78.78-.78 2.05 0 2.83L4 21.41c.39.39.9.59 1.41.59.51 0 1.02-.2 1.41-.59l7.78-7.78 2.81-2.81c.8-.78.8-2.07 0-2.86zM5.41 20L4 18.59l7.72-7.72 1.47 1.35L5.41 20z\"/>\n",
              "  </svg>\n",
              "      </button>\n",
              "      \n",
              "  <style>\n",
              "    .colab-df-container {\n",
              "      display:flex;\n",
              "      flex-wrap:wrap;\n",
              "      gap: 12px;\n",
              "    }\n",
              "\n",
              "    .colab-df-convert {\n",
              "      background-color: #E8F0FE;\n",
              "      border: none;\n",
              "      border-radius: 50%;\n",
              "      cursor: pointer;\n",
              "      display: none;\n",
              "      fill: #1967D2;\n",
              "      height: 32px;\n",
              "      padding: 0 0 0 0;\n",
              "      width: 32px;\n",
              "    }\n",
              "\n",
              "    .colab-df-convert:hover {\n",
              "      background-color: #E2EBFA;\n",
              "      box-shadow: 0px 1px 2px rgba(60, 64, 67, 0.3), 0px 1px 3px 1px rgba(60, 64, 67, 0.15);\n",
              "      fill: #174EA6;\n",
              "    }\n",
              "\n",
              "    [theme=dark] .colab-df-convert {\n",
              "      background-color: #3B4455;\n",
              "      fill: #D2E3FC;\n",
              "    }\n",
              "\n",
              "    [theme=dark] .colab-df-convert:hover {\n",
              "      background-color: #434B5C;\n",
              "      box-shadow: 0px 1px 3px 1px rgba(0, 0, 0, 0.15);\n",
              "      filter: drop-shadow(0px 1px 2px rgba(0, 0, 0, 0.3));\n",
              "      fill: #FFFFFF;\n",
              "    }\n",
              "  </style>\n",
              "\n",
              "      <script>\n",
              "        const buttonEl =\n",
              "          document.querySelector('#df-81871cd7-4282-45c3-8af4-e1adfa98e96b button.colab-df-convert');\n",
              "        buttonEl.style.display =\n",
              "          google.colab.kernel.accessAllowed ? 'block' : 'none';\n",
              "\n",
              "        async function convertToInteractive(key) {\n",
              "          const element = document.querySelector('#df-81871cd7-4282-45c3-8af4-e1adfa98e96b');\n",
              "          const dataTable =\n",
              "            await google.colab.kernel.invokeFunction('convertToInteractive',\n",
              "                                                     [key], {});\n",
              "          if (!dataTable) return;\n",
              "\n",
              "          const docLinkHtml = 'Like what you see? Visit the ' +\n",
              "            '<a target=\"_blank\" href=https://colab.research.google.com/notebooks/data_table.ipynb>data table notebook</a>'\n",
              "            + ' to learn more about interactive tables.';\n",
              "          element.innerHTML = '';\n",
              "          dataTable['output_type'] = 'display_data';\n",
              "          await google.colab.output.renderOutput(dataTable, element);\n",
              "          const docLink = document.createElement('div');\n",
              "          docLink.innerHTML = docLinkHtml;\n",
              "          element.appendChild(docLink);\n",
              "        }\n",
              "      </script>\n",
              "    </div>\n",
              "  </div>\n",
              "  "
            ],
            "text/plain": [
              "   Unnamed: 0  ... root_label\n",
              "0         590  ...     sports\n",
              "1         388  ...     sports\n",
              "2         423  ...     sports\n",
              "3         563  ...     sports\n",
              "4         634  ...     sports\n",
              "\n",
              "[5 rows x 9 columns]"
            ]
          },
          "metadata": {},
          "execution_count": 5
        }
      ]
    },
    {
      "cell_type": "code",
      "source": [
        "num_sports_article = len(df.loc[df.root_label == 'sports'])\n",
        "print(\"# article with root label == sports =\", num_sports_article)\n",
        "num_climate_article = len(df.loc[df.root_label == 'climate'])\n",
        "print(\"# article with root label == climate =\", num_climate_article)\n",
        "print(\"# total article = \",len(df))"
      ],
      "metadata": {
        "id": "tro1gZ9u-4J3",
        "colab": {
          "base_uri": "https://localhost:8080/"
        },
        "outputId": "b180c01b-17e6-40f7-9629-ddd4b8fa4ace"
      },
      "execution_count": 5,
      "outputs": [
        {
          "output_type": "stream",
          "name": "stdout",
          "text": [
            "# article with root label == sports = 1036\n",
            "# article with root label == climate = 1036\n",
            "# total article =  2072\n"
          ]
        }
      ]
    },
    {
      "cell_type": "code",
      "source": [
        "# label encoder \n",
        "# from sklearn.preprocessing import LabelEncoder\n",
        "# le=LabelEncoder()\n",
        "# data['Category']=le.fit_transform(data['Category'])\n",
        "# data.head()"
      ],
      "metadata": {
        "id": "9cnnyV5IfmbI"
      },
      "execution_count": null,
      "outputs": []
    },
    {
      "cell_type": "code",
      "source": [
        "FT = df.full_text"
      ],
      "metadata": {
        "id": "OS5jZNq3MQog"
      },
      "execution_count": null,
      "outputs": []
    },
    {
      "cell_type": "code",
      "source": [
        "FT.head()"
      ],
      "metadata": {
        "colab": {
          "base_uri": "https://localhost:8080/"
        },
        "id": "w9PgNHGCa768",
        "outputId": "24ecf8a1-4a54-408a-db5f-a778f6af32de"
      },
      "execution_count": null,
      "outputs": [
        {
          "output_type": "execute_result",
          "data": {
            "text/plain": [
              "0    Having made a massive impact in Saudi Arabia w...\n",
              "1    Cricket is all about the emotional rollercoast...\n",
              "2    New Zealand announces back-to-back tours next ...\n",
              "3    It's not the first time cricket fans in the co...\n",
              "4    An employee works on a computer terminal again...\n",
              "Name: full_text, dtype: object"
            ]
          },
          "metadata": {},
          "execution_count": 13
        }
      ]
    },
    {
      "cell_type": "code",
      "source": [
        "import re\n",
        "import matplotlib.pyplot as plt\n",
        "import numpy as np"
      ],
      "metadata": {
        "id": "G1oyfzrLpwFW"
      },
      "execution_count": null,
      "outputs": []
    },
    {
      "cell_type": "code",
      "source": [
        "histo = []\n",
        "for i in range(0,len(FT)):\n",
        "    review = re.sub(r'https?://\\S+|www.\\S+', '', FT[i])\n",
        "    review = re.sub(r'<.*?>', '', review)\n",
        "    review = re.sub(r'[^a-z0-9A-Z]+', ' ', review)\n",
        "    if(i==0):\n",
        "        print(review)\n",
        "    histo.append(len(review))"
      ],
      "metadata": {
        "colab": {
          "base_uri": "https://localhost:8080/"
        },
        "id": "3ABM8UiTa97q",
        "outputId": "0550d05d-9537-429b-84da-620b5e3bee8e"
      },
      "execution_count": null,
      "outputs": [
        {
          "output_type": "stream",
          "name": "stdout",
          "text": [
            "Having made a massive impact in Saudi Arabia with his style and performance in 83 Ranveer Singh returned to Mumbai on Friday morning with Deepika Padukone After a few hours Ranveer was once again spotted at Mumbai airport as he was leaving the city This time when Ranveer showed up at the airport his stylish look certainly grabbed all the attention The 83 star is already known for his offbeat and unique sartorial choices and he proved it once again As Ranveer stepped out of his luxury vehicle he left everyone in awe with his cool and comfy style The paparazzi caught up with him and clicked him in the frame In the photos Ranveer is seen clad in a Drew House white hoodie with pants But what actually caught all the attention was his hot pink beanie matching his shoes Ranveer slayed the hot pink shoes and beanie like a pro with a cool and comfy look His yellow scarf and cool shades added another level of charm to the airport look Take a look Provided by Pinkvilla Provided by Pinkvilla Provided by Pinkvilla Provided by Pinkvilla Earlier this week Ranveer and Deepika had headed to Saudi Arabia for 83 promotions They were joined by Kapil Dev Romi Dev Kabir Khan and Mini Mathur to attend the Red Sea International Film Festival Photos from the events in Saudi Arabia showcases Ranveer s stylish and unique outfit choices Talking about 83 the film stars Ranveer as legendary cricketer Kapil Dev It showcases Team India s journey to winning the Cricket World Cup in 1983 It also stars Deepika Padukone in a pivotal role It will release on December 24 2021 Also Read 83 Ranveer Singh features on Burj Khalifa Deepika Padukone can t keep her eyes off of him\n"
          ]
        }
      ]
    },
    {
      "cell_type": "code",
      "source": [
        "plt.hist(hist, density=False, bins=25)  # density=False would make counts\n",
        "plt.ylabel('Frequency')\n",
        "plt.xlabel('# alpha-numberic');"
      ],
      "metadata": {
        "colab": {
          "base_uri": "https://localhost:8080/",
          "height": 279
        },
        "id": "ciyeMCg9ppll",
        "outputId": "69733c96-d0fd-4bb0-f401-eed8f3b3fdc9"
      },
      "execution_count": null,
      "outputs": [
        {
          "output_type": "display_data",
          "data": {
            "image/png": "[encoded data removed]",
            "text/plain": [
              "<Figure size 432x288 with 1 Axes>"
            ]
          },
          "metadata": {
            "needs_background": "light"
          }
        }
      ]
    },
    {
      "cell_type": "code",
      "source": [
        "print(len(hist))"
      ],
      "metadata": {
        "colab": {
          "base_uri": "https://localhost:8080/"
        },
        "id": "IMw9YaUzrkSs",
        "outputId": "ad654da3-393d-4ce0-bfc2-a162cdf3b81e"
      },
      "execution_count": null,
      "outputs": [
        {
          "output_type": "stream",
          "name": "stdout",
          "text": [
            "2072\n"
          ]
        }
      ]
    },
    {
      "cell_type": "markdown",
      "source": [
        "#Binary Classification"
      ],
      "metadata": {
        "id": "gjJrA-VOyiHu"
      }
    },
    {
      "cell_type": "code",
      "source": [
        "import numpy as np\n",
        "import random\n",
        "np.random.seed(42)\n",
        "random.seed(42)"
      ],
      "metadata": {
        "id": "J5SKdNDWrmo5"
      },
      "execution_count": 6,
      "outputs": []
    },
    {
      "cell_type": "markdown",
      "source": [
        "train test split"
      ],
      "metadata": {
        "id": "pomVZBh4_YK-"
      }
    },
    {
      "cell_type": "code",
      "source": [
        "from sklearn.model_selection import train_test_split\n",
        "train, test = train_test_split(df[[\"full_text\",\"root_label\"]], test_size=0.2)"
      ],
      "metadata": {
        "id": "TXaV03VsyrfA"
      },
      "execution_count": 7,
      "outputs": []
    },
    {
      "cell_type": "code",
      "source": [
        "print(\"train set size  = \",len(train))\n",
        "print(\"test set size  = \",len(test))"
      ],
      "metadata": {
        "colab": {
          "base_uri": "https://localhost:8080/"
        },
        "id": "nztngY9ZzCn6",
        "outputId": "01a516b0-ae11-407e-8d68-fd5998c49f04"
      },
      "execution_count": 8,
      "outputs": [
        {
          "output_type": "stream",
          "name": "stdout",
          "text": [
            "train set size  =  1657\n",
            "test set size  =  415\n"
          ]
        }
      ]
    },
    {
      "cell_type": "markdown",
      "source": [
        "Define Stopwords"
      ],
      "metadata": {
        "id": "PfTwK0n-Gxeg"
      }
    },
    {
      "cell_type": "code",
      "source": [
        "import nltk\n",
        "nltk.download('stopwords')\n",
        "from sklearn.feature_extraction import text\n",
        "stop_words_skt = text.ENGLISH_STOP_WORDS\n",
        "from nltk.corpus import stopwords\n",
        "nltk.download('stopwords' )\n",
        "nltk.download('punkt')\n",
        "nltk.download('averaged_perceptron_tagger')\n",
        "nltk.download('wordnet')\n",
        "stop_words_en = stopwords.words('english')\n",
        "from string import punctuation\n",
        "combined_stopwords = set.union(set(stop_words_en),set(punctuation),set(stop_words_skt))"
      ],
      "metadata": {
        "colab": {
          "base_uri": "https://localhost:8080/"
        },
        "id": "FGWOXIsyGwri",
        "outputId": "bbcf5c26-4e71-4eb3-bd49-236cc7fa4489"
      },
      "execution_count": 9,
      "outputs": [
        {
          "output_type": "stream",
          "name": "stdout",
          "text": [
            "[nltk_data] Downloading package stopwords to /root/nltk_data...\n",
            "[nltk_data]   Unzipping corpora/stopwords.zip.\n",
            "[nltk_data] Downloading package stopwords to /root/nltk_data...\n",
            "[nltk_data]   Package stopwords is already up-to-date!\n",
            "[nltk_data] Downloading package punkt to /root/nltk_data...\n",
            "[nltk_data]   Unzipping tokenizers/punkt.zip.\n",
            "[nltk_data] Downloading package averaged_perceptron_tagger to\n",
            "[nltk_data]     /root/nltk_data...\n",
            "[nltk_data]   Unzipping taggers/averaged_perceptron_tagger.zip.\n",
            "[nltk_data] Downloading package wordnet to /root/nltk_data...\n",
            "[nltk_data]   Unzipping corpora/wordnet.zip.\n"
          ]
        }
      ]
    },
    {
      "cell_type": "markdown",
      "source": [
        "Feature Extraction"
      ],
      "metadata": {
        "id": "a9rzI9vd_dVz"
      }
    },
    {
      "cell_type": "code",
      "source": [
        "def penn2morphy(penntag):\n",
        "    \"\"\" Converts Penn Treebank tags to WordNet. \"\"\"\n",
        "    morphy_tag = {'NN':'n', 'JJ':'a',\n",
        "                  'VB':'v', 'RB':'r'}\n",
        "    try:\n",
        "        return morphy_tag[penntag[:2]]\n",
        "    except:\n",
        "        return 'n'"
      ],
      "metadata": {
        "id": "kYNHYz25KYtf"
      },
      "execution_count": 10,
      "outputs": []
    },
    {
      "cell_type": "code",
      "source": [
        "import re\n",
        "from nltk import pos_tag\n",
        "wnl = nltk.wordnet.WordNetLemmatizer()\n",
        "def clean(text):\n",
        "        text = re.sub(r'^https?:\\/\\/.*[\\r\\n]*', '', text, flags=re.MULTILINE)\n",
        "        texter = re.sub(r\"<br />\", \" \", text)\n",
        "        texter = re.sub(r\"&quot;\", \"\\\"\",texter)\n",
        "        texter = re.sub('&#39;', \"\\\"\", texter)\n",
        "        # texter = re.sub(r'[0-9]', '', texter)  #to remove digits\n",
        "        texter = re.sub('\\n', \" \", texter)\n",
        "        texter = re.sub(' u ',\" you \", texter)\n",
        "        texter = re.sub('`',\"\", texter)\n",
        "        texter = re.sub(' +', ' ', texter)\n",
        "        texter = re.sub(r\"(!)\\1+\", r\"!\", texter)\n",
        "        texter = re.sub(r\"(\\?)\\1+\", r\"?\", texter)\n",
        "        texter = re.sub('&amp;', 'and', texter)\n",
        "        texter = re.sub('\\r', ' ',texter)\n",
        "        clean = re.compile('<.*?>')\n",
        "        texter = texter.encode('ascii', 'ignore').decode('ascii')\n",
        "        texter = re.sub(clean, '', texter)\n",
        "        # texter = re.sub(r'[^a-zA-Z]+', ' ', texter) #only consider alphabets removed punctuation also can be a issue\n",
        "        texter = texter.lower()\n",
        "        # lemmatization with stop word removal\n",
        "        # texter = [wnl.lemmatize(word, pos=penn2morphy(tag)) \n",
        "        #     for word, tag in pos_tag(nltk.word_tokenize(texter)) if not word in combined_stopwords]\n",
        "        # texter=' '.join(texter)\n",
        "\n",
        "        if texter == \"\":\n",
        "            texter = \"\"\n",
        "        return texter"
      ],
      "metadata": {
        "id": "AX534uCSzZ4e"
      },
      "execution_count": 11,
      "outputs": []
    },
    {
      "cell_type": "code",
      "source": [
        "def lemmatization_and_stopword(dataset):\n",
        "    print(len(dataset.full_text))\n",
        "    for i in dataset.full_text.keys():\n",
        "        dataset.full_text[i] = clean(dataset.full_text[i])\n",
        "    return dataset"
      ],
      "metadata": {
        "id": "KSNYigrUDQ2Q"
      },
      "execution_count": 12,
      "outputs": []
    },
    {
      "cell_type": "code",
      "source": [
        "train = lemmatization_and_stopword(train)\n",
        "test = lemmatization_and_stopword(test)"
      ],
      "metadata": {
        "colab": {
          "base_uri": "https://localhost:8080/"
        },
        "id": "DKC7X-FEMj_p",
        "outputId": "861be115-a850-4491-e706-d7b46559d222"
      },
      "execution_count": 13,
      "outputs": [
        {
          "output_type": "stream",
          "name": "stdout",
          "text": [
            "1657\n",
            "415\n"
          ]
        }
      ]
    },
    {
      "cell_type": "markdown",
      "source": [
        "count vector"
      ],
      "metadata": {
        "id": "ZQs2TmD1SVeh"
      }
    },
    {
      "cell_type": "code",
      "source": [
        "from sklearn.feature_extraction.text import CountVectorizer\n",
        "analyzer = CountVectorizer().build_analyzer()\n",
        "def stemmed_words(doc):\n",
        "    return (stemmer.stem(w) for w in analyzer(doc))\n",
        "def stem_rmv_punc(doc):\n",
        "    return (word for word in lemmatize_sent(analyzer(doc)) if word not in combined_stopwords and not word.isdigit())\n",
        "def lemmatize_sent(list_word): \n",
        "    # Text input is string, returns array of lowercased strings(words).\n",
        "    return [wnl.lemmatize(word.lower(), pos=penn2morphy(tag)) \n",
        "            for word, tag in pos_tag(list_word)]"
      ],
      "metadata": {
        "id": "W8YqPXRiQS-6"
      },
      "execution_count": 14,
      "outputs": []
    },
    {
      "cell_type": "code",
      "source": [
        "count_vect1 = CountVectorizer(min_df=3,analyzer=stem_rmv_punc)\n",
        "X_train_counts = count_vect1.fit_transform(train.full_text)"
      ],
      "metadata": {
        "id": "uO0sEvczR5K8"
      },
      "execution_count": 15,
      "outputs": []
    },
    {
      "cell_type": "code",
      "source": [
        "X_test_counts = count_vect1.transform(test.full_text)"
      ],
      "metadata": {
        "id": "xOjrLBP4-g5n"
      },
      "execution_count": 16,
      "outputs": []
    },
    {
      "cell_type": "markdown",
      "source": [
        "Tf-idf"
      ],
      "metadata": {
        "id": "_aQvOxTkSao8"
      }
    },
    {
      "cell_type": "code",
      "source": [
        "from sklearn.feature_extraction.text import TfidfTransformer\n",
        "tfidf_transformer = TfidfTransformer()\n",
        "X_train_tfidf = tfidf_transformer.fit_transform(X_train_counts)\n",
        "X_test_tfidf = tfidf_transformer.transform(X_test_counts)"
      ],
      "metadata": {
        "id": "G7SD4MLbR8sD"
      },
      "execution_count": 17,
      "outputs": []
    },
    {
      "cell_type": "markdown",
      "source": [
        "Convert root labels into numeric form"
      ],
      "metadata": {
        "id": "-losQtb-V3vl"
      }
    },
    {
      "cell_type": "code",
      "source": [
        "from sklearn.preprocessing import LabelEncoder\n",
        "le=LabelEncoder()\n",
        "Y_train =le.fit_transform(train.root_label)\n",
        "Y_test = le.transform(test.root_label)"
      ],
      "metadata": {
        "id": "NF6rkuhPSgLP"
      },
      "execution_count": 18,
      "outputs": []
    },
    {
      "cell_type": "code",
      "source": [
        "print(train.root_label[0],Y_train[0])"
      ],
      "metadata": {
        "colab": {
          "base_uri": "https://localhost:8080/"
        },
        "id": "hZE3KKWCWKgy",
        "outputId": "1098737e-c36a-48ed-db6a-e5dd43a48cfd"
      },
      "execution_count": null,
      "outputs": [
        {
          "output_type": "stream",
          "name": "stdout",
          "text": [
            "sports 0\n"
          ]
        }
      ]
    },
    {
      "cell_type": "markdown",
      "source": [
        "Dimensionality Reduction"
      ],
      "metadata": {
        "id": "WnInXwBMccxX"
      }
    },
    {
      "cell_type": "code",
      "source": [
        "from sklearn.decomposition import NMF\n",
        "\n",
        "nmf = NMF(n_components=50, init='random', random_state=42)\n",
        "W_train_nmf = nmf.fit_transform(X_train_tfidf)"
      ],
      "metadata": {
        "colab": {
          "base_uri": "https://localhost:8080/"
        },
        "id": "WcOYJk9gWNB6",
        "outputId": "e38fa452-caa1-4361-82fd-d2cab9cce855"
      },
      "execution_count": null,
      "outputs": [
        {
          "output_type": "stream",
          "name": "stderr",
          "text": [
            "/usr/local/lib/python3.7/dist-packages/sklearn/decomposition/_nmf.py:1641: ConvergenceWarning: Maximum number of iterations 200 reached. Increase it to improve convergence.\n",
            "  ConvergenceWarning,\n"
          ]
        }
      ]
    },
    {
      "cell_type": "code",
      "source": [
        "print(\"Reconstruction error in NMF = \",nmf.reconstruction_err_)"
      ],
      "metadata": {
        "colab": {
          "base_uri": "https://localhost:8080/"
        },
        "id": "1dMDcLi6c2FS",
        "outputId": "3c7cee98-f6fe-4638-ba4c-109984de49ce"
      },
      "execution_count": null,
      "outputs": [
        {
          "output_type": "stream",
          "name": "stdout",
          "text": [
            "Reconstruction error in NMF =  34.368173401018474\n"
          ]
        }
      ]
    },
    {
      "cell_type": "code",
      "source": [
        "from sklearn.decomposition import TruncatedSVD\n",
        "svd = TruncatedSVD(n_components=50, n_iter=7, random_state=42)"
      ],
      "metadata": {
        "id": "g_r4BAzydGMZ"
      },
      "execution_count": null,
      "outputs": []
    },
    {
      "cell_type": "code",
      "source": [
        "W_train_svd = svd.fit_transform(X_train_tfidf)"
      ],
      "metadata": {
        "id": "XmW_6rwxHgaN"
      },
      "execution_count": null,
      "outputs": []
    },
    {
      "cell_type": "code",
      "source": [
        "svd.explained_variance_ratio_"
      ],
      "metadata": {
        "colab": {
          "base_uri": "https://localhost:8080/"
        },
        "id": "r9zE3hx0Hnaj",
        "outputId": "ed0869c8-6fdc-4a98-92ef-a80cb47c24ce"
      },
      "execution_count": null,
      "outputs": [
        {
          "output_type": "execute_result",
          "data": {
            "text/plain": [
              "array([0.00539039, 0.02000825, 0.019249  , 0.01560421, 0.0131025 ,\n",
              "       0.01228693, 0.01041722, 0.00970967, 0.00880077, 0.00883258,\n",
              "       0.00819134, 0.00733393, 0.0072292 , 0.00702135, 0.00558609,\n",
              "       0.00532393, 0.00486275, 0.00461055, 0.00445977, 0.00431718,\n",
              "       0.00426225, 0.00407942, 0.00403631, 0.00395068, 0.00385965,\n",
              "       0.0037861 , 0.00376187, 0.00370692, 0.00359213, 0.00342742,\n",
              "       0.00335322, 0.00326513, 0.00324261, 0.00309276, 0.00304501,\n",
              "       0.00298689, 0.00295238, 0.00286568, 0.0028159 , 0.00275558,\n",
              "       0.00272397, 0.00270032, 0.00265257, 0.0025996 , 0.00256048,\n",
              "       0.0024783 , 0.00238913, 0.00237346, 0.0023674 , 0.00232802])"
            ]
          },
          "metadata": {},
          "execution_count": 119
        }
      ]
    },
    {
      "cell_type": "code",
      "source": [
        "import matplotlib.pyplot as plt\n",
        "plt.plot(svd.explained_variance_ratio_[1:]) \n",
        "plt.show()"
      ],
      "metadata": {
        "colab": {
          "base_uri": "https://localhost:8080/",
          "height": 265
        },
        "id": "8Sj9nz5KIgXo",
        "outputId": "7602d3df-1aa8-49da-8c0b-00a1b6ea33a6"
      },
      "execution_count": null,
      "outputs": [
        {
          "output_type": "display_data",
          "data": {
            "image/png": "[encoded data removed]",
            "text/plain": [
              "<Figure size 432x288 with 1 Axes>"
            ]
          },
          "metadata": {
            "needs_background": "light"
          }
        }
      ]
    },
    {
      "cell_type": "code",
      "source": [
        "X_train_recons = svd.inverse_transform(W_train_svd)"
      ],
      "metadata": {
        "id": "V0Svz93JI8bk"
      },
      "execution_count": null,
      "outputs": []
    },
    {
      "cell_type": "code",
      "source": [
        "print(\"Reconstruction error in SVD = \",np.linalg.norm(X_train_tfidf-X_train_recons))"
      ],
      "metadata": {
        "colab": {
          "base_uri": "https://localhost:8080/"
        },
        "id": "6cXqdvYpOk_W",
        "outputId": "5cd971b5-c283-4857-ce6a-6415f8e910ec"
      },
      "execution_count": null,
      "outputs": [
        {
          "output_type": "stream",
          "name": "stdout",
          "text": [
            "Reconstruction error in SVD =  34.0652556579666\n"
          ]
        }
      ]
    },
    {
      "cell_type": "markdown",
      "source": [
        "#Classification Algorithm"
      ],
      "metadata": {
        "id": "HnTOMdO6yqVI"
      }
    },
    {
      "cell_type": "markdown",
      "source": [
        "SVM report (accuracy, recall, precision and F-1 score)\n",
        "<br>Doubt ?? hard svm make number of iteration to higher number "
      ],
      "metadata": {
        "id": "J5w2Xijtyt_l"
      }
    },
    {
      "cell_type": "code",
      "source": [
        "from sklearn.metrics import confusion_matrix\n",
        "from sklearn.metrics import accuracy_score\n",
        "from sklearn.metrics import precision_score\n",
        "from sklearn.metrics import recall_score\n",
        "from sklearn.metrics import f1_score\n",
        "from sklearn.metrics import roc_curve\n",
        "from sklearn.metrics import auc\n",
        "import matplotlib.pyplot as plt\n",
        "%matplotlib inline\n",
        "def plot_roc(fpr, tpr):\n",
        "    fig, ax = plt.subplots()\n",
        "\n",
        "    roc_auc = auc(fpr,tpr)\n",
        "\n",
        "    ax.plot(fpr, tpr, lw=2, label= 'area under curve = %0.4f' % roc_auc)\n",
        "\n",
        "    ax.grid(color='0.7', linestyle='--', linewidth=1)\n",
        "\n",
        "    ax.set_xlim([-0.1, 1.1])\n",
        "    ax.set_ylim([0.0, 1.05])\n",
        "    ax.set_xlabel('False Positive Rate',fontsize=15)\n",
        "    ax.set_ylabel('True Positive Rate',fontsize=15)\n",
        "\n",
        "    ax.legend(loc=\"lower right\")\n",
        "\n",
        "    for label in ax.get_xticklabels()+ax.get_yticklabels():\n",
        "        label.set_fontsize(15)"
      ],
      "metadata": {
        "id": "nDGP3mqRPCgJ"
      },
      "execution_count": 19,
      "outputs": []
    },
    {
      "cell_type": "code",
      "source": [
        "# prob_score = pipe.predict_proba(test_data)\n",
        "\n",
        "# fpr, tpr, _ = roc_curve(test_label, prob_score[:,1])"
      ],
      "metadata": {
        "id": "EzjjT2Mvz3FU"
      },
      "execution_count": null,
      "outputs": []
    },
    {
      "cell_type": "code",
      "source": [
        "from sklearn.decomposition import TruncatedSVD\n",
        "svd = TruncatedSVD(n_components=10, n_iter=7, random_state=42)\n",
        "W_train_svd = svd.fit_transform(X_train_tfidf)\n",
        "W_test_svd = svd.transform(X_test_tfidf)"
      ],
      "metadata": {
        "id": "KdnTHWOO6f5Z"
      },
      "execution_count": 20,
      "outputs": []
    },
    {
      "cell_type": "code",
      "source": [
        "W_train_svd[0]"
      ],
      "metadata": {
        "colab": {
          "base_uri": "https://localhost:8080/"
        },
        "id": "WIZN6Sf275_L",
        "outputId": "5024400f-3af7-4510-d21a-6d174c81efb4"
      },
      "execution_count": null,
      "outputs": [
        {
          "output_type": "execute_result",
          "data": {
            "text/plain": [
              "array([ 0.17757321,  0.02030553,  0.00655751,  0.02866301, -0.06249099,\n",
              "       -0.01633809, -0.0542531 ,  0.01434009, -0.00611295,  0.00950024])"
            ]
          },
          "metadata": {},
          "execution_count": 48
        }
      ]
    },
    {
      "cell_type": "code",
      "source": [
        "# from sklearn.naive_bayes import MultinomialNB\n",
        "# clf = MultinomialNB().fit(W_train, twenty_train.target)\n",
        "# predicted = clf.predict(W_test)\n",
        "from sklearn.pipeline import make_pipeline\n",
        "from sklearn.svm import LinearSVC\n",
        "from sklearn.preprocessing import StandardScaler\n",
        "hard_svm = LinearSVC(C=1000,max_iter=120000)\n",
        "hard_svm.fit(W_train_svd,Y_train)"
      ],
      "metadata": {
        "colab": {
          "base_uri": "https://localhost:8080/"
        },
        "id": "cZxefwXZ0i3J",
        "outputId": "f565aeeb-0299-48c1-873e-689956d7fb14"
      },
      "execution_count": 21,
      "outputs": [
        {
          "output_type": "execute_result",
          "data": {
            "text/plain": [
              "LinearSVC(C=1000, max_iter=120000)"
            ]
          },
          "metadata": {},
          "execution_count": 21
        }
      ]
    },
    {
      "cell_type": "code",
      "source": [
        "predicted = hard_svm.predict(W_test_svd)"
      ],
      "metadata": {
        "id": "cLhOHI3B7gmJ"
      },
      "execution_count": 22,
      "outputs": []
    },
    {
      "cell_type": "code",
      "source": [
        "print(\"accuracy = \",accuracy_score(Y_test, predicted),\" precision = \",precision_score(Y_test, predicted), \" recall = \",recall_score(Y_test, predicted))"
      ],
      "metadata": {
        "colab": {
          "base_uri": "https://localhost:8080/"
        },
        "id": "UAoUY1v4GkpO",
        "outputId": "089ace7e-1f92-401c-ca14-e01060854ddc"
      },
      "execution_count": 23,
      "outputs": [
        {
          "output_type": "stream",
          "name": "stdout",
          "text": [
            "accuracy =  0.9542168674698795  precision =  0.9439252336448598  recall =  0.9665071770334929\n"
          ]
        }
      ]
    },
    {
      "cell_type": "code",
      "source": [
        "fpr, tpr, _ = roc_curve(Y_test, predicted)\n",
        "plot_roc(fpr, tpr)"
      ],
      "metadata": {
        "colab": {
          "base_uri": "https://localhost:8080/",
          "height": 289
        },
        "id": "0Ppl5a3_CuEb",
        "outputId": "76c0a1e9-eaae-48e4-a40a-761a87ebb4b3"
      },
      "execution_count": 24,
      "outputs": [
        {
          "output_type": "display_data",
          "data": {
            "image/png": "[encoded data removed]",
            "text/plain": [
              "<Figure size 432x288 with 1 Axes>"
            ]
          },
          "metadata": {
            "needs_background": "light"
          }
        }
      ]
    },
    {
      "cell_type": "code",
      "source": [
        "soft_svm = LinearSVC(C=0.0001,max_iter=120000)\n",
        "soft_svm.fit(W_train_svd,Y_train)\n",
        "predicted_soft = soft_svm.predict(W_test_svd)"
      ],
      "metadata": {
        "id": "HVrOd9TDCvdt"
      },
      "execution_count": 25,
      "outputs": []
    },
    {
      "cell_type": "code",
      "source": [
        "print(\"accuracy = \",accuracy_score(Y_test, predicted_soft),\" precision = \",precision_score(Y_test, predicted_soft), \" recall = \",recall_score(Y_test, predicted_soft))"
      ],
      "metadata": {
        "colab": {
          "base_uri": "https://localhost:8080/"
        },
        "id": "RUTToGfxHZBG",
        "outputId": "eb01f236-b566-4639-8117-f1f9c76e55ba"
      },
      "execution_count": 26,
      "outputs": [
        {
          "output_type": "stream",
          "name": "stdout",
          "text": [
            "accuracy =  0.9493975903614458  precision =  0.9563106796116505  recall =  0.9425837320574163\n"
          ]
        }
      ]
    },
    {
      "cell_type": "code",
      "source": [
        "fpr, tpr, _ = roc_curve(Y_test, predicted_soft)\n",
        "plot_roc(fpr, tpr)"
      ],
      "metadata": {
        "colab": {
          "base_uri": "https://localhost:8080/",
          "height": 289
        },
        "id": "CYz6NulgEdyL",
        "outputId": "c84da313-1bf5-410f-f735-57a08c469659"
      },
      "execution_count": 27,
      "outputs": [
        {
          "output_type": "display_data",
          "data": {
            "image/png": "[encoded data removed]",
            "text/plain": [
              "<Figure size 432x288 with 1 Axes>"
            ]
          },
          "metadata": {
            "needs_background": "light"
          }
        }
      ]
    },
    {
      "cell_type": "code",
      "source": [
        "hard_svm2 = LinearSVC(C=100000,max_iter=12000000)\n",
        "hard_svm2.fit(W_train_svd,Y_train)"
      ],
      "metadata": {
        "colab": {
          "base_uri": "https://localhost:8080/"
        },
        "id": "GBuENe21EgvV",
        "outputId": "722b9142-2d80-44ec-93f9-ee4cd45ac30f"
      },
      "execution_count": 28,
      "outputs": [
        {
          "output_type": "execute_result",
          "data": {
            "text/plain": [
              "LinearSVC(C=100000, max_iter=12000000)"
            ]
          },
          "metadata": {},
          "execution_count": 28
        }
      ]
    },
    {
      "cell_type": "code",
      "source": [
        "predicted_hard2 = hard_svm2.predict(W_test_svd)"
      ],
      "metadata": {
        "id": "LG3WPnhYIUhf"
      },
      "execution_count": 29,
      "outputs": []
    },
    {
      "cell_type": "code",
      "source": [
        "print(\"accuracy = \",accuracy_score(Y_test, predicted_hard2),\" precision = \",precision_score(Y_test, predicted_hard2), \" recall = \",recall_score(Y_test, predicted_hard2))"
      ],
      "metadata": {
        "colab": {
          "base_uri": "https://localhost:8080/"
        },
        "id": "-IwGlZBuKQQY",
        "outputId": "16b89c02-3809-4246-cad9-dbf091e8fe4b"
      },
      "execution_count": 30,
      "outputs": [
        {
          "output_type": "stream",
          "name": "stdout",
          "text": [
            "accuracy =  0.9542168674698795  precision =  0.9439252336448598  recall =  0.9665071770334929\n"
          ]
        }
      ]
    },
    {
      "cell_type": "code",
      "source": [
        "fpr, tpr, _ = roc_curve(Y_test, predicted_hard2)\n",
        "plot_roc(fpr, tpr)"
      ],
      "metadata": {
        "colab": {
          "base_uri": "https://localhost:8080/",
          "height": 289
        },
        "id": "jpCKB-fBKWOz",
        "outputId": "8d915dfe-1828-4e8c-95a5-dc9a375ec0e7"
      },
      "execution_count": 31,
      "outputs": [
        {
          "output_type": "display_data",
          "data": {
            "image/png": "[encoded data removed]",
            "text/plain": [
              "<Figure size 432x288 with 1 Axes>"
            ]
          },
          "metadata": {
            "needs_background": "light"
          }
        }
      ]
    },
    {
      "cell_type": "markdown",
      "source": [
        "Kfold to select the gamma in case of SVM"
      ],
      "metadata": {
        "id": "wIZSlA80_EVm"
      }
    },
    {
      "cell_type": "code",
      "source": [
        "from sklearn.model_selection import cross_val_score\n",
        "gamma = np.array([0.001,0.01,0.1,1,10,100,1000,10000,100000,1000000])\n",
        "cv_scores = []\n",
        "for gc in gamma:\n",
        "    clf = LinearSVC(C=gc,max_iter=12000000)\n",
        "    score = cross_val_score(clf, W_train_svd, Y_train, cv=5, scoring='accuracy')\n",
        "    print(\"gamma = \",gc,\"  accuracy = \",score.mean())\n",
        "    cv_scores.append(score.mean())"
      ],
      "metadata": {
        "colab": {
          "base_uri": "https://localhost:8080/"
        },
        "id": "rtV4KScT_Lf4",
        "outputId": "997b2a47-0cc3-4aec-c945-f0532f05fd60"
      },
      "execution_count": 34,
      "outputs": [
        {
          "output_type": "stream",
          "name": "stdout",
          "text": [
            "gamma =  0.001   accuracy =  0.9245568376223929\n",
            "gamma =  0.01   accuracy =  0.9100680668292505\n",
            "gamma =  0.1   accuracy =  0.9191224110945292\n",
            "gamma =  1.0   accuracy =  0.9251610672296436\n",
            "gamma =  10.0   accuracy =  0.9366250500491391\n",
            "gamma =  100.0   accuracy =  0.9360226404105848\n",
            "gamma =  1000.0   accuracy =  0.9366250500491391\n",
            "gamma =  10000.0   accuracy =  0.9372292796563899\n",
            "gamma =  100000.0   accuracy =  0.9372292796563899\n"
          ]
        },
        {
          "output_type": "stream",
          "name": "stderr",
          "text": [
            "/usr/local/lib/python3.7/dist-packages/sklearn/svm/_base.py:1208: ConvergenceWarning: Liblinear failed to converge, increase the number of iterations.\n",
            "  ConvergenceWarning,\n",
            "/usr/local/lib/python3.7/dist-packages/sklearn/svm/_base.py:1208: ConvergenceWarning: Liblinear failed to converge, increase the number of iterations.\n",
            "  ConvergenceWarning,\n",
            "/usr/local/lib/python3.7/dist-packages/sklearn/svm/_base.py:1208: ConvergenceWarning: Liblinear failed to converge, increase the number of iterations.\n",
            "  ConvergenceWarning,\n",
            "/usr/local/lib/python3.7/dist-packages/sklearn/svm/_base.py:1208: ConvergenceWarning: Liblinear failed to converge, increase the number of iterations.\n",
            "  ConvergenceWarning,\n"
          ]
        },
        {
          "output_type": "stream",
          "name": "stdout",
          "text": [
            "gamma =  1000000.0   accuracy =  0.9366250500491391\n"
          ]
        },
        {
          "output_type": "stream",
          "name": "stderr",
          "text": [
            "/usr/local/lib/python3.7/dist-packages/sklearn/svm/_base.py:1208: ConvergenceWarning: Liblinear failed to converge, increase the number of iterations.\n",
            "  ConvergenceWarning,\n"
          ]
        }
      ]
    },
    {
      "cell_type": "code",
      "source": [
        "hard_svm_kfld = LinearSVC(C=10000,max_iter=12000000)\n",
        "hard_svm_kfld.fit(W_train_svd,Y_train)"
      ],
      "metadata": {
        "colab": {
          "base_uri": "https://localhost:8080/"
        },
        "id": "Y3h6ib3pB4cz",
        "outputId": "4d0a1908-01eb-4267-b275-03375d5f57eb"
      },
      "execution_count": 35,
      "outputs": [
        {
          "output_type": "execute_result",
          "data": {
            "text/plain": [
              "LinearSVC(C=10000, max_iter=12000000)"
            ]
          },
          "metadata": {},
          "execution_count": 35
        }
      ]
    },
    {
      "cell_type": "code",
      "source": [
        "predicted_svm_kfld = hard_svm_kfld.predict(W_test_svd)"
      ],
      "metadata": {
        "id": "0-d0wbrfCFWi"
      },
      "execution_count": 36,
      "outputs": []
    },
    {
      "cell_type": "code",
      "source": [
        "print(\"accuracy = \",accuracy_score(Y_test, predicted_svm_kfld),\" precision = \",precision_score(Y_test, predicted_svm_kfld), \" recall = \",recall_score(Y_test, predicted_svm_kfld))"
      ],
      "metadata": {
        "colab": {
          "base_uri": "https://localhost:8080/"
        },
        "id": "OnJrFJQCCNn2",
        "outputId": "5010a15d-c61a-4fdf-adde-ae6fd80428d7"
      },
      "execution_count": 37,
      "outputs": [
        {
          "output_type": "stream",
          "name": "stdout",
          "text": [
            "accuracy =  0.9542168674698795  precision =  0.9439252336448598  recall =  0.9665071770334929\n"
          ]
        }
      ]
    },
    {
      "cell_type": "code",
      "source": [
        "fpr, tpr, _ = roc_curve(Y_test, predicted_svm_kfld)\n",
        "plot_roc(fpr, tpr)"
      ],
      "metadata": {
        "colab": {
          "base_uri": "https://localhost:8080/",
          "height": 289
        },
        "id": "W1ewieNMCVJi",
        "outputId": "7d7443a7-c7da-4201-ae10-47b3fcc91ffe"
      },
      "execution_count": 38,
      "outputs": [
        {
          "output_type": "display_data",
          "data": {
            "image/png": "[encoded data removed]",
            "text/plain": [
              "<Figure size 432x288 with 1 Axes>"
            ]
          },
          "metadata": {
            "needs_background": "light"
          }
        }
      ]
    },
    {
      "cell_type": "markdown",
      "source": [
        "Logistic Regression"
      ],
      "metadata": {
        "id": "nA5537oVKocD"
      }
    },
    {
      "cell_type": "code",
      "source": [
        "from sklearn.linear_model import LogisticRegression\n",
        "logreg = LogisticRegression(penalty='none',random_state=42,max_iter=1200)\n",
        "logreg.fit(W_train_svd,Y_train)"
      ],
      "metadata": {
        "colab": {
          "base_uri": "https://localhost:8080/"
        },
        "id": "NuZhWjW-Kiey",
        "outputId": "ebbf1ea3-6d76-40a4-c14d-dd623cfa49c5"
      },
      "execution_count": 50,
      "outputs": [
        {
          "output_type": "execute_result",
          "data": {
            "text/plain": [
              "LogisticRegression(max_iter=1200, penalty='none', random_state=42)"
            ]
          },
          "metadata": {},
          "execution_count": 50
        }
      ]
    },
    {
      "cell_type": "code",
      "source": [
        "predicted_logreg = logreg.predict(W_test_svd)"
      ],
      "metadata": {
        "id": "EzvXn7hmMVJZ"
      },
      "execution_count": 51,
      "outputs": []
    },
    {
      "cell_type": "code",
      "source": [
        "print(\"accuracy = \",accuracy_score(Y_test, predicted_logreg),\" precision = \",precision_score(Y_test, predicted_logreg), \" recall = \",recall_score(Y_test, predicted_logreg))"
      ],
      "metadata": {
        "colab": {
          "base_uri": "https://localhost:8080/"
        },
        "id": "HSqHaYaBMdpt",
        "outputId": "67dd4a11-817d-48e1-8af8-e0124e59255d"
      },
      "execution_count": 52,
      "outputs": [
        {
          "output_type": "stream",
          "name": "stdout",
          "text": [
            "accuracy =  0.9542168674698795  precision =  0.9439252336448598  recall =  0.9665071770334929\n"
          ]
        }
      ]
    },
    {
      "cell_type": "code",
      "source": [
        "fpr, tpr, _ = roc_curve(Y_test, predicted_logreg)\n",
        "plot_roc(fpr, tpr)"
      ],
      "metadata": {
        "colab": {
          "base_uri": "https://localhost:8080/",
          "height": 289
        },
        "id": "7aF8KlPDMjZE",
        "outputId": "bfc1cae9-7e12-45e6-d8d7-f6e29405313d"
      },
      "execution_count": 46,
      "outputs": [
        {
          "output_type": "display_data",
          "data": {
            "image/png": "[encoded data removed]",
            "text/plain": [
              "<Figure size 432x288 with 1 Axes>"
            ]
          },
          "metadata": {
            "needs_background": "light"
          }
        }
      ]
    },
    {
      "cell_type": "markdown",
      "source": [
        "L2 regularization Ridge Regression"
      ],
      "metadata": {
        "id": "QiSfhuCsNovk"
      }
    },
    {
      "cell_type": "code",
      "source": [
        "logregl2 = LogisticRegression(penalty='l2',random_state=42,C=100)\n",
        "logregl2.fit(W_train_svd,Y_train)"
      ],
      "metadata": {
        "colab": {
          "base_uri": "https://localhost:8080/"
        },
        "id": "SeK36I7RMwpO",
        "outputId": "c7773ae6-2c8d-4149-8c52-554701e973ac"
      },
      "execution_count": 47,
      "outputs": [
        {
          "output_type": "execute_result",
          "data": {
            "text/plain": [
              "LogisticRegression(C=100, random_state=42)"
            ]
          },
          "metadata": {},
          "execution_count": 47
        }
      ]
    },
    {
      "cell_type": "code",
      "source": [
        "predicted_logregl2 = logregl2.predict(W_test_svd)"
      ],
      "metadata": {
        "id": "SrvFUsfwOJSC"
      },
      "execution_count": 48,
      "outputs": []
    },
    {
      "cell_type": "code",
      "source": [
        "print(\"accuracy = \",accuracy_score(Y_test, predicted_logregl2),\" precision = \",precision_score(Y_test, predicted_logregl2), \" recall = \",recall_score(Y_test, predicted_logregl2))"
      ],
      "metadata": {
        "colab": {
          "base_uri": "https://localhost:8080/"
        },
        "id": "j3eGtMpFOMRC",
        "outputId": "fc74bfcb-c375-413e-cf4f-4fd3c0ac57c0"
      },
      "execution_count": 49,
      "outputs": [
        {
          "output_type": "stream",
          "name": "stdout",
          "text": [
            "accuracy =  0.9518072289156626  precision =  0.9395348837209302  recall =  0.9665071770334929\n"
          ]
        }
      ]
    },
    {
      "cell_type": "code",
      "source": [
        "fpr, tpr, _ = roc_curve(Y_test, predicted_logregl2)\n",
        "plot_roc(fpr, tpr)"
      ],
      "metadata": {
        "colab": {
          "base_uri": "https://localhost:8080/",
          "height": 289
        },
        "id": "v7nC0hlfOZtZ",
        "outputId": "20fc49e8-046f-49ca-ff0c-f86856cb1d06"
      },
      "execution_count": 53,
      "outputs": [
        {
          "output_type": "display_data",
          "data": {
            "image/png": "[encoded data removed]",
            "text/plain": [
              "<Figure size 432x288 with 1 Axes>"
            ]
          },
          "metadata": {
            "needs_background": "light"
          }
        }
      ]
    },
    {
      "cell_type": "code",
      "source": [
        "reg_strength = np.array([0.0001,0.001,0.01,0.1,1,10,100,1000,10000])\n",
        "cv_scores_l2 = []\n",
        "for K in reg_strength:\n",
        "    clf = LogisticRegression(penalty='l2',random_state=42,C=K)\n",
        "    score = cross_val_score(clf, W_train_svd, Y_train, cv=5, scoring='accuracy')\n",
        "    print(\"reg strength = \",K,\"  accuracy = \",score.mean())\n",
        "    cv_scores_l2.append(score.mean())"
      ],
      "metadata": {
        "colab": {
          "base_uri": "https://localhost:8080/"
        },
        "id": "pxuU42HuDdUc",
        "outputId": "d2a4a451-4b81-4a59-c920-03090b3ba969"
      },
      "execution_count": 54,
      "outputs": [
        {
          "output_type": "stream",
          "name": "stdout",
          "text": [
            "reg strength =  0.0001   accuracy =  0.5009063444108761\n",
            "reg strength =  0.001   accuracy =  0.8853492519928657\n",
            "reg strength =  0.01   accuracy =  0.9112710661376624\n",
            "reg strength =  0.1   accuracy =  0.9094656571906963\n",
            "reg strength =  1.0   accuracy =  0.9215411494922288\n",
            "reg strength =  10.0   accuracy =  0.9257634768681978\n",
            "reg strength =  100.0   accuracy =  0.9378335092636407\n",
            "reg strength =  1000.0   accuracy =  0.9360226404105848\n",
            "reg strength =  10000.0   accuracy =  0.9348141811960833\n"
          ]
        }
      ]
    },
    {
      "cell_type": "code",
      "source": [
        "logregl2_best = LogisticRegression(penalty='l2',random_state=42,C=100)\n",
        "logregl2_best.fit(W_train_svd,Y_train)\n",
        "predicted_logregl2_best = logregl2_best.predict(W_test_svd)\n",
        "print(\"accuracy = \",accuracy_score(Y_test, predicted_logregl2_best),\" precision = \",precision_score(Y_test, predicted_logregl2_best), \" recall = \",recall_score(Y_test, predicted_logregl2_best))\n",
        "fpr, tpr, _ = roc_curve(Y_test, predicted_logregl2_best)\n",
        "plot_roc(fpr, tpr)"
      ],
      "metadata": {
        "colab": {
          "base_uri": "https://localhost:8080/",
          "height": 306
        },
        "id": "N9Q_cwbMEtKx",
        "outputId": "b3cb220c-f23a-488b-bf6f-e1fff7ba06b5"
      },
      "execution_count": 55,
      "outputs": [
        {
          "output_type": "stream",
          "name": "stdout",
          "text": [
            "accuracy =  0.9518072289156626  precision =  0.9395348837209302  recall =  0.9665071770334929\n"
          ]
        },
        {
          "output_type": "display_data",
          "data": {
            "image/png": "[encoded data removed]",
            "text/plain": [
              "<Figure size 432x288 with 1 Axes>"
            ]
          },
          "metadata": {
            "needs_background": "light"
          }
        }
      ]
    },
    {
      "cell_type": "markdown",
      "source": [
        "L1 regularization Lasso Regression"
      ],
      "metadata": {
        "id": "ZaJmDANaOlkx"
      }
    },
    {
      "cell_type": "code",
      "source": [
        "logregl1 = LogisticRegression(penalty='l1',random_state=42,C=10, solver='liblinear')\n",
        "logregl1.fit(W_train_svd,Y_train)"
      ],
      "metadata": {
        "colab": {
          "base_uri": "https://localhost:8080/"
        },
        "id": "1R-mv7mhOgem",
        "outputId": "0fbe0d56-35cb-4a4f-fcd1-4a3986bc1b5f"
      },
      "execution_count": 56,
      "outputs": [
        {
          "output_type": "execute_result",
          "data": {
            "text/plain": [
              "LogisticRegression(C=10, penalty='l1', random_state=42, solver='liblinear')"
            ]
          },
          "metadata": {},
          "execution_count": 56
        }
      ]
    },
    {
      "cell_type": "code",
      "source": [
        "predicted_logregl1 = logregl1.predict(W_test_svd)"
      ],
      "metadata": {
        "id": "JbretkyEOyHI"
      },
      "execution_count": 57,
      "outputs": []
    },
    {
      "cell_type": "code",
      "source": [
        "print(\"accuracy = \",accuracy_score(Y_test, predicted_logregl1),\" precision = \",precision_score(Y_test, predicted_logregl1), \" recall = \",recall_score(Y_test, predicted_logregl1))"
      ],
      "metadata": {
        "colab": {
          "base_uri": "https://localhost:8080/"
        },
        "id": "nWqYUMxLPZRw",
        "outputId": "a722741b-27e5-4a65-8566-6773ee60b031"
      },
      "execution_count": 58,
      "outputs": [
        {
          "output_type": "stream",
          "name": "stdout",
          "text": [
            "accuracy =  0.9542168674698795  precision =  0.9439252336448598  recall =  0.9665071770334929\n"
          ]
        }
      ]
    },
    {
      "cell_type": "code",
      "source": [
        "fpr, tpr, _ = roc_curve(Y_test, predicted_logregl1)\n",
        "plot_roc(fpr, tpr)"
      ],
      "metadata": {
        "colab": {
          "base_uri": "https://localhost:8080/",
          "height": 289
        },
        "id": "st6iyEX1PdVS",
        "outputId": "49808859-4251-4f1a-efb7-261b8ecd3f3c"
      },
      "execution_count": 59,
      "outputs": [
        {
          "output_type": "display_data",
          "data": {
            "image/png": "[encoded data removed]",
            "text/plain": [
              "<Figure size 432x288 with 1 Axes>"
            ]
          },
          "metadata": {
            "needs_background": "light"
          }
        }
      ]
    },
    {
      "cell_type": "code",
      "source": [
        "reg_strength = np.array([0.0001,0.001,0.01,0.1,1,10,100,1000,10000])\n",
        "cv_scores_l1 = []\n",
        "for K in reg_strength:\n",
        "    clf = LogisticRegression(penalty='l1',random_state=42,C=K, solver='liblinear')\n",
        "    score = cross_val_score(clf, W_train_svd, Y_train, cv=5, scoring='accuracy')\n",
        "    print(\"reg strength  = \",K,\"  accuracy = \",score.mean())\n",
        "    cv_scores_l1.append(score.mean())"
      ],
      "metadata": {
        "colab": {
          "base_uri": "https://localhost:8080/"
        },
        "id": "euUpOARBFHLt",
        "outputId": "b7c5661e-34fc-45ca-e6c5-a69aae0d2514"
      },
      "execution_count": 60,
      "outputs": [
        {
          "output_type": "stream",
          "name": "stdout",
          "text": [
            "reg strength  =  0.0001   accuracy =  0.5009063444108761\n",
            "reg strength  =  0.001   accuracy =  0.5009063444108761\n",
            "reg strength  =  0.01   accuracy =  0.5009063444108761\n",
            "reg strength  =  0.1   accuracy =  0.9082590179448914\n",
            "reg strength  =  1.0   accuracy =  0.9239598878899283\n",
            "reg strength  =  10.0   accuracy =  0.9366268700178356\n",
            "reg strength  =  100.0   accuracy =  0.9348141811960833\n",
            "reg strength  =  1000.0   accuracy =  0.9348141811960833\n",
            "reg strength  =  10000.0   accuracy =  0.9348141811960833\n"
          ]
        }
      ]
    },
    {
      "cell_type": "code",
      "source": [
        "logregl1_best = LogisticRegression(penalty='l1',random_state=42,C=10, solver='liblinear')\n",
        "logregl1_best.fit(W_train_svd,Y_train)\n",
        "predicted_logregl1_best = logregl1_best.predict(W_test_svd)\n",
        "print(\"accuracy = \",accuracy_score(Y_test, predicted_logregl1_best),\" precision = \",precision_score(Y_test, predicted_logregl1_best), \" recall = \",recall_score(Y_test, predicted_logregl1_best))\n",
        "fpr, tpr, _ = roc_curve(Y_test, predicted_logregl1_best)\n",
        "plot_roc(fpr, tpr)"
      ],
      "metadata": {
        "colab": {
          "base_uri": "https://localhost:8080/",
          "height": 306
        },
        "id": "UHQ2GS59FTb4",
        "outputId": "89e08eac-aca5-4575-bad6-a3503db46ca1"
      },
      "execution_count": 62,
      "outputs": [
        {
          "output_type": "stream",
          "name": "stdout",
          "text": [
            "accuracy =  0.9542168674698795  precision =  0.9439252336448598  recall =  0.9665071770334929\n"
          ]
        },
        {
          "output_type": "display_data",
          "data": {
            "image/png": "[encoded data removed]",
            "text/plain": [
              "<Figure size 432x288 with 1 Axes>"
            ]
          },
          "metadata": {
            "needs_background": "light"
          }
        }
      ]
    },
    {
      "cell_type": "markdown",
      "source": [
        "Naive Bayes Model"
      ],
      "metadata": {
        "id": "_kTY41i2QhXM"
      }
    },
    {
      "cell_type": "code",
      "source": [
        "from sklearn.naive_bayes import GaussianNB\n",
        "gnb = GaussianNB()\n",
        "gnb.fit(W_train_svd,Y_train)"
      ],
      "metadata": {
        "colab": {
          "base_uri": "https://localhost:8080/"
        },
        "id": "nS6hw-zEPjlE",
        "outputId": "df24ffce-6242-4c22-ae76-d105c426aa37"
      },
      "execution_count": 63,
      "outputs": [
        {
          "output_type": "execute_result",
          "data": {
            "text/plain": [
              "GaussianNB()"
            ]
          },
          "metadata": {},
          "execution_count": 63
        }
      ]
    },
    {
      "cell_type": "code",
      "source": [
        "predicted_gnb = gnb.predict(W_test_svd)"
      ],
      "metadata": {
        "id": "88e6u8-sXQyH"
      },
      "execution_count": 64,
      "outputs": []
    },
    {
      "cell_type": "code",
      "source": [
        "print(\"accuracy = \",accuracy_score(Y_test, predicted_gnb),\" precision = \",precision_score(Y_test, predicted_gnb), \" recall = \",recall_score(Y_test, predicted_gnb))"
      ],
      "metadata": {
        "colab": {
          "base_uri": "https://localhost:8080/"
        },
        "id": "YC9qcFUOXcTK",
        "outputId": "814bbb63-9426-425a-8d44-15d06c7c1433"
      },
      "execution_count": 65,
      "outputs": [
        {
          "output_type": "stream",
          "name": "stdout",
          "text": [
            "accuracy =  0.8843373493975903  precision =  0.8259109311740891  recall =  0.9760765550239234\n"
          ]
        }
      ]
    },
    {
      "cell_type": "code",
      "source": [
        "fpr, tpr, _ = roc_curve(Y_test, predicted_gnb)\n",
        "plot_roc(fpr, tpr)"
      ],
      "metadata": {
        "colab": {
          "base_uri": "https://localhost:8080/",
          "height": 289
        },
        "id": "pRZAcTimXy5U",
        "outputId": "ed61f1d4-a91d-4f94-b5e0-63f1d5d9ae30"
      },
      "execution_count": 66,
      "outputs": [
        {
          "output_type": "display_data",
          "data": {
            "image/png": "[encoded data removed]",
            "text/plain": [
              "<Figure size 432x288 with 1 Axes>"
            ]
          },
          "metadata": {
            "needs_background": "light"
          }
        }
      ]
    },
    {
      "cell_type": "code",
      "source": [
        ""
      ],
      "metadata": {
        "id": "8gwJr4nbX3tk"
      },
      "execution_count": null,
      "outputs": []
    }
  ]
}